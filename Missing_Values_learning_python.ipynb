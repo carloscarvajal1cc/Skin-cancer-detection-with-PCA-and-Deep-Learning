{
  "nbformat": 4,
  "nbformat_minor": 0,
  "metadata": {
    "colab": {
      "name": "Missing_Values_learning_python.ipynb",
      "version": "0.3.2",
      "provenance": [],
      "collapsed_sections": [],
      "include_colab_link": true
    },
    "kernelspec": {
      "name": "python3",
      "display_name": "Python 3"
    }
  },
  "cells": [
    {
      "cell_type": "markdown",
      "metadata": {
        "id": "view-in-github",
        "colab_type": "text"
      },
      "source": [
        "<a href=\"https://colab.research.google.com/github/carloscarvajal1cc/UTS_MachineLearning_Assigment2/blob/Edits/Missing_Values_learning_python.ipynb\" target=\"_parent\"><img src=\"https://colab.research.google.com/assets/colab-badge.svg\" alt=\"Open In Colab\"/></a>"
      ]
    },
    {
      "cell_type": "code",
      "metadata": {
        "id": "4fayf260xUzv",
        "colab_type": "code",
        "colab": {}
      },
      "source": [
        "### adidng a change\n",
        "\n",
        "\n",
        "## Treating missing values"
      ],
      "execution_count": 0,
      "outputs": []
    },
    {
      "cell_type": "markdown",
      "metadata": {
        "id": "mzr30DzSZz6f",
        "colab_type": "text"
      },
      "source": [
        "andres"
      ]
    },
    {
      "cell_type": "code",
      "metadata": {
        "id": "xAgg79Y9xcl7",
        "colab_type": "code",
        "colab": {}
      },
      "source": [
        "import numpy as np\n",
        "import pandas as pd\n",
        "\n",
        "from pandas import Series, DataFrame"
      ],
      "execution_count": 0,
      "outputs": []
    },
    {
      "cell_type": "code",
      "metadata": {
        "id": "Qe8X-ysHxmaW",
        "colab_type": "code",
        "outputId": "24f6b93f-b258-48e6-9ba7-b4a300752f32",
        "colab": {
          "base_uri": "https://localhost:8080/",
          "height": 170
        }
      },
      "source": [
        "#figuring out what data is missing\n",
        "\n",
        "#create a value called missing\n",
        "\n",
        "missing = np.nan\n",
        "\n",
        "# now lets create a series object, by calling the Series constructor and passing\n",
        "#in a list that contains the values that we want the series to hold\n",
        "\n",
        "\n",
        "series_obj = Series(['row 1', 'row 2', missing, 'row 4', 'row 5', 'row 6',\n",
        "                    missing, 'row 8' ])\n",
        "\n",
        "series_obj"
      ],
      "execution_count": 0,
      "outputs": [
        {
          "output_type": "execute_result",
          "data": {
            "text/plain": [
              "0    row 1\n",
              "1    row 2\n",
              "2      NaN\n",
              "3    row 4\n",
              "4    row 5\n",
              "5    row 6\n",
              "6      NaN\n",
              "7    row 8\n",
              "dtype: object"
            ]
          },
          "metadata": {
            "tags": []
          },
          "execution_count": 3
        }
      ]
    },
    {
      "cell_type": "code",
      "metadata": {
        "id": "v6Gk9pWcycNe",
        "colab_type": "code",
        "outputId": "b679be70-a2b1-4751-ae12-afd6d2c8f52b",
        "colab": {
          "base_uri": "https://localhost:8080/",
          "height": 170
        }
      },
      "source": [
        "# lets use pandas to figure out what is missing\n",
        "\n",
        "# first method: the isnull method which is object_name.isnull()\n",
        "#we get boolean values that indicates that false is not missing\n",
        "#and true as its missing\n",
        "\n",
        "series_obj.isnull()"
      ],
      "execution_count": 0,
      "outputs": [
        {
          "output_type": "execute_result",
          "data": {
            "text/plain": [
              "0    False\n",
              "1    False\n",
              "2     True\n",
              "3    False\n",
              "4    False\n",
              "5    False\n",
              "6     True\n",
              "7    False\n",
              "dtype: bool"
            ]
          },
          "metadata": {
            "tags": []
          },
          "execution_count": 4
        }
      ]
    },
    {
      "cell_type": "code",
      "metadata": {
        "id": "2IsNFQN_zHKH",
        "colab_type": "code",
        "outputId": "80a46202-072d-430b-c0fe-1a633c9e40ab",
        "colab": {
          "base_uri": "https://localhost:8080/",
          "height": 235
        }
      },
      "source": [
        "#filling in for missing values\n",
        "\n",
        "#lets setup seed to create a random number generator called from numpy\n",
        "\n",
        "np.random.seed(25)\n",
        "\n",
        "\n",
        "#Lets create a data frame called DF_obj and pass it the numpy randon number\n",
        "#generator by writing np.random.randn(36)\n",
        "#and then we call the reshape method after that to generate a 6 by 6\n",
        "#matrix\n",
        "\n",
        "DF_obj = DataFrame(np.random.randn(36).reshape(6,6))\n",
        "DF_obj "
      ],
      "execution_count": 0,
      "outputs": [
        {
          "output_type": "execute_result",
          "data": {
            "text/html": [
              "<div>\n",
              "<style scoped>\n",
              "    .dataframe tbody tr th:only-of-type {\n",
              "        vertical-align: middle;\n",
              "    }\n",
              "\n",
              "    .dataframe tbody tr th {\n",
              "        vertical-align: top;\n",
              "    }\n",
              "\n",
              "    .dataframe thead th {\n",
              "        text-align: right;\n",
              "    }\n",
              "</style>\n",
              "<table border=\"1\" class=\"dataframe\">\n",
              "  <thead>\n",
              "    <tr style=\"text-align: right;\">\n",
              "      <th></th>\n",
              "      <th>0</th>\n",
              "      <th>1</th>\n",
              "      <th>2</th>\n",
              "      <th>3</th>\n",
              "      <th>4</th>\n",
              "      <th>5</th>\n",
              "    </tr>\n",
              "  </thead>\n",
              "  <tbody>\n",
              "    <tr>\n",
              "      <th>0</th>\n",
              "      <td>0.228273</td>\n",
              "      <td>1.026890</td>\n",
              "      <td>-0.839585</td>\n",
              "      <td>-0.591182</td>\n",
              "      <td>-0.956888</td>\n",
              "      <td>-0.222326</td>\n",
              "    </tr>\n",
              "    <tr>\n",
              "      <th>1</th>\n",
              "      <td>-0.619915</td>\n",
              "      <td>1.837905</td>\n",
              "      <td>-2.053231</td>\n",
              "      <td>0.868583</td>\n",
              "      <td>-0.920734</td>\n",
              "      <td>-0.232312</td>\n",
              "    </tr>\n",
              "    <tr>\n",
              "      <th>2</th>\n",
              "      <td>2.152957</td>\n",
              "      <td>-1.334661</td>\n",
              "      <td>0.076380</td>\n",
              "      <td>-1.246089</td>\n",
              "      <td>1.202272</td>\n",
              "      <td>-1.049942</td>\n",
              "    </tr>\n",
              "    <tr>\n",
              "      <th>3</th>\n",
              "      <td>1.056610</td>\n",
              "      <td>-0.419678</td>\n",
              "      <td>2.294842</td>\n",
              "      <td>-2.594487</td>\n",
              "      <td>2.822756</td>\n",
              "      <td>0.680889</td>\n",
              "    </tr>\n",
              "    <tr>\n",
              "      <th>4</th>\n",
              "      <td>-1.577693</td>\n",
              "      <td>-1.976254</td>\n",
              "      <td>0.533340</td>\n",
              "      <td>-0.290870</td>\n",
              "      <td>-0.513520</td>\n",
              "      <td>1.982626</td>\n",
              "    </tr>\n",
              "    <tr>\n",
              "      <th>5</th>\n",
              "      <td>0.226001</td>\n",
              "      <td>-1.839905</td>\n",
              "      <td>1.607671</td>\n",
              "      <td>0.388292</td>\n",
              "      <td>0.399732</td>\n",
              "      <td>0.405477</td>\n",
              "    </tr>\n",
              "  </tbody>\n",
              "</table>\n",
              "</div>"
            ],
            "text/plain": [
              "          0         1         2         3         4         5\n",
              "0  0.228273  1.026890 -0.839585 -0.591182 -0.956888 -0.222326\n",
              "1 -0.619915  1.837905 -2.053231  0.868583 -0.920734 -0.232312\n",
              "2  2.152957 -1.334661  0.076380 -1.246089  1.202272 -1.049942\n",
              "3  1.056610 -0.419678  2.294842 -2.594487  2.822756  0.680889\n",
              "4 -1.577693 -1.976254  0.533340 -0.290870 -0.513520  1.982626\n",
              "5  0.226001 -1.839905  1.607671  0.388292  0.399732  0.405477"
            ]
          },
          "metadata": {
            "tags": []
          },
          "execution_count": 5
        }
      ]
    },
    {
      "cell_type": "code",
      "metadata": {
        "id": "28-y-h1I0BUN",
        "colab_type": "code",
        "outputId": "8c2d818d-f158-430d-b97e-30293a1b5e0c",
        "colab": {
          "base_uri": "https://localhost:8080/",
          "height": 235
        }
      },
      "source": [
        "# now lets set some of these values in the data set as missing values\n",
        "\n",
        "# lets set records 3 to 5 in the column indexed as cero and set records\n",
        "#1 to 4 in the column indexed as 5 equal to missing.\n",
        "\n",
        "# we do that by calling the object and using the method .ix[] specifying\n",
        "#the rows , the columns and set it as missing.\n",
        "\n",
        "DF_obj.loc[3:5,0] = missing\n",
        "DF_obj.loc[1:4,5] = missing\n",
        "\n",
        "DF_obj\n",
        "\n",
        "#remember that .ix has been changed to .loc"
      ],
      "execution_count": 0,
      "outputs": [
        {
          "output_type": "execute_result",
          "data": {
            "text/html": [
              "<div>\n",
              "<style scoped>\n",
              "    .dataframe tbody tr th:only-of-type {\n",
              "        vertical-align: middle;\n",
              "    }\n",
              "\n",
              "    .dataframe tbody tr th {\n",
              "        vertical-align: top;\n",
              "    }\n",
              "\n",
              "    .dataframe thead th {\n",
              "        text-align: right;\n",
              "    }\n",
              "</style>\n",
              "<table border=\"1\" class=\"dataframe\">\n",
              "  <thead>\n",
              "    <tr style=\"text-align: right;\">\n",
              "      <th></th>\n",
              "      <th>0</th>\n",
              "      <th>1</th>\n",
              "      <th>2</th>\n",
              "      <th>3</th>\n",
              "      <th>4</th>\n",
              "      <th>5</th>\n",
              "    </tr>\n",
              "  </thead>\n",
              "  <tbody>\n",
              "    <tr>\n",
              "      <th>0</th>\n",
              "      <td>0.228273</td>\n",
              "      <td>1.026890</td>\n",
              "      <td>-0.839585</td>\n",
              "      <td>-0.591182</td>\n",
              "      <td>-0.956888</td>\n",
              "      <td>-0.222326</td>\n",
              "    </tr>\n",
              "    <tr>\n",
              "      <th>1</th>\n",
              "      <td>-0.619915</td>\n",
              "      <td>1.837905</td>\n",
              "      <td>-2.053231</td>\n",
              "      <td>0.868583</td>\n",
              "      <td>-0.920734</td>\n",
              "      <td>NaN</td>\n",
              "    </tr>\n",
              "    <tr>\n",
              "      <th>2</th>\n",
              "      <td>2.152957</td>\n",
              "      <td>-1.334661</td>\n",
              "      <td>0.076380</td>\n",
              "      <td>-1.246089</td>\n",
              "      <td>1.202272</td>\n",
              "      <td>NaN</td>\n",
              "    </tr>\n",
              "    <tr>\n",
              "      <th>3</th>\n",
              "      <td>NaN</td>\n",
              "      <td>-0.419678</td>\n",
              "      <td>2.294842</td>\n",
              "      <td>-2.594487</td>\n",
              "      <td>2.822756</td>\n",
              "      <td>NaN</td>\n",
              "    </tr>\n",
              "    <tr>\n",
              "      <th>4</th>\n",
              "      <td>NaN</td>\n",
              "      <td>-1.976254</td>\n",
              "      <td>0.533340</td>\n",
              "      <td>-0.290870</td>\n",
              "      <td>-0.513520</td>\n",
              "      <td>NaN</td>\n",
              "    </tr>\n",
              "    <tr>\n",
              "      <th>5</th>\n",
              "      <td>NaN</td>\n",
              "      <td>-1.839905</td>\n",
              "      <td>1.607671</td>\n",
              "      <td>0.388292</td>\n",
              "      <td>0.399732</td>\n",
              "      <td>0.405477</td>\n",
              "    </tr>\n",
              "  </tbody>\n",
              "</table>\n",
              "</div>"
            ],
            "text/plain": [
              "          0         1         2         3         4         5\n",
              "0  0.228273  1.026890 -0.839585 -0.591182 -0.956888 -0.222326\n",
              "1 -0.619915  1.837905 -2.053231  0.868583 -0.920734       NaN\n",
              "2  2.152957 -1.334661  0.076380 -1.246089  1.202272       NaN\n",
              "3       NaN -0.419678  2.294842 -2.594487  2.822756       NaN\n",
              "4       NaN -1.976254  0.533340 -0.290870 -0.513520       NaN\n",
              "5       NaN -1.839905  1.607671  0.388292  0.399732  0.405477"
            ]
          },
          "metadata": {
            "tags": []
          },
          "execution_count": 7
        }
      ]
    },
    {
      "cell_type": "code",
      "metadata": {
        "id": "Dfi8byzV0-14",
        "colab_type": "code",
        "outputId": "5bdad7ce-f499-43aa-e916-3ff9d90c51f3",
        "colab": {
          "base_uri": "https://localhost:8080/",
          "height": 235
        }
      },
      "source": [
        "#lets fill the NaN with the zero value by creating a new object\n",
        "#with the method .fillna(0)\n",
        "\n",
        "filled_DF = DF_obj.fillna(0)\n",
        "filled_DF"
      ],
      "execution_count": 0,
      "outputs": [
        {
          "output_type": "execute_result",
          "data": {
            "text/html": [
              "<div>\n",
              "<style scoped>\n",
              "    .dataframe tbody tr th:only-of-type {\n",
              "        vertical-align: middle;\n",
              "    }\n",
              "\n",
              "    .dataframe tbody tr th {\n",
              "        vertical-align: top;\n",
              "    }\n",
              "\n",
              "    .dataframe thead th {\n",
              "        text-align: right;\n",
              "    }\n",
              "</style>\n",
              "<table border=\"1\" class=\"dataframe\">\n",
              "  <thead>\n",
              "    <tr style=\"text-align: right;\">\n",
              "      <th></th>\n",
              "      <th>0</th>\n",
              "      <th>1</th>\n",
              "      <th>2</th>\n",
              "      <th>3</th>\n",
              "      <th>4</th>\n",
              "      <th>5</th>\n",
              "    </tr>\n",
              "  </thead>\n",
              "  <tbody>\n",
              "    <tr>\n",
              "      <th>0</th>\n",
              "      <td>0.228273</td>\n",
              "      <td>1.026890</td>\n",
              "      <td>-0.839585</td>\n",
              "      <td>-0.591182</td>\n",
              "      <td>-0.956888</td>\n",
              "      <td>-0.222326</td>\n",
              "    </tr>\n",
              "    <tr>\n",
              "      <th>1</th>\n",
              "      <td>-0.619915</td>\n",
              "      <td>1.837905</td>\n",
              "      <td>-2.053231</td>\n",
              "      <td>0.868583</td>\n",
              "      <td>-0.920734</td>\n",
              "      <td>0.000000</td>\n",
              "    </tr>\n",
              "    <tr>\n",
              "      <th>2</th>\n",
              "      <td>2.152957</td>\n",
              "      <td>-1.334661</td>\n",
              "      <td>0.076380</td>\n",
              "      <td>-1.246089</td>\n",
              "      <td>1.202272</td>\n",
              "      <td>0.000000</td>\n",
              "    </tr>\n",
              "    <tr>\n",
              "      <th>3</th>\n",
              "      <td>0.000000</td>\n",
              "      <td>-0.419678</td>\n",
              "      <td>2.294842</td>\n",
              "      <td>-2.594487</td>\n",
              "      <td>2.822756</td>\n",
              "      <td>0.000000</td>\n",
              "    </tr>\n",
              "    <tr>\n",
              "      <th>4</th>\n",
              "      <td>0.000000</td>\n",
              "      <td>-1.976254</td>\n",
              "      <td>0.533340</td>\n",
              "      <td>-0.290870</td>\n",
              "      <td>-0.513520</td>\n",
              "      <td>0.000000</td>\n",
              "    </tr>\n",
              "    <tr>\n",
              "      <th>5</th>\n",
              "      <td>0.000000</td>\n",
              "      <td>-1.839905</td>\n",
              "      <td>1.607671</td>\n",
              "      <td>0.388292</td>\n",
              "      <td>0.399732</td>\n",
              "      <td>0.405477</td>\n",
              "    </tr>\n",
              "  </tbody>\n",
              "</table>\n",
              "</div>"
            ],
            "text/plain": [
              "          0         1         2         3         4         5\n",
              "0  0.228273  1.026890 -0.839585 -0.591182 -0.956888 -0.222326\n",
              "1 -0.619915  1.837905 -2.053231  0.868583 -0.920734  0.000000\n",
              "2  2.152957 -1.334661  0.076380 -1.246089  1.202272  0.000000\n",
              "3  0.000000 -0.419678  2.294842 -2.594487  2.822756  0.000000\n",
              "4  0.000000 -1.976254  0.533340 -0.290870 -0.513520  0.000000\n",
              "5  0.000000 -1.839905  1.607671  0.388292  0.399732  0.405477"
            ]
          },
          "metadata": {
            "tags": []
          },
          "execution_count": 8
        }
      ]
    },
    {
      "cell_type": "code",
      "metadata": {
        "id": "PjXFZ16_1Z3-",
        "colab_type": "code",
        "outputId": "e51a3d4a-7e45-42c0-a21f-538bd58db504",
        "colab": {
          "base_uri": "https://localhost:8080/",
          "height": 235
        }
      },
      "source": [
        "#Now lets pass a dictionary into the .fillna() method with their own unique\n",
        "#numbers and then columng by column basis.\n",
        "#call the output of the function \n",
        "\n",
        "#for the values in column 0 lets set the values as 0.1 and for the values\n",
        "#in column 5 set them with 1.25 by writing the following expression\n",
        "\n",
        "filled_DF = DF_obj.fillna({0:0.1, 5:1.25})\n",
        "\n",
        "#print\n",
        "\n",
        "filled_DF\n",
        "\n"
      ],
      "execution_count": 0,
      "outputs": [
        {
          "output_type": "execute_result",
          "data": {
            "text/html": [
              "<div>\n",
              "<style scoped>\n",
              "    .dataframe tbody tr th:only-of-type {\n",
              "        vertical-align: middle;\n",
              "    }\n",
              "\n",
              "    .dataframe tbody tr th {\n",
              "        vertical-align: top;\n",
              "    }\n",
              "\n",
              "    .dataframe thead th {\n",
              "        text-align: right;\n",
              "    }\n",
              "</style>\n",
              "<table border=\"1\" class=\"dataframe\">\n",
              "  <thead>\n",
              "    <tr style=\"text-align: right;\">\n",
              "      <th></th>\n",
              "      <th>0</th>\n",
              "      <th>1</th>\n",
              "      <th>2</th>\n",
              "      <th>3</th>\n",
              "      <th>4</th>\n",
              "      <th>5</th>\n",
              "    </tr>\n",
              "  </thead>\n",
              "  <tbody>\n",
              "    <tr>\n",
              "      <th>0</th>\n",
              "      <td>0.228273</td>\n",
              "      <td>1.026890</td>\n",
              "      <td>-0.839585</td>\n",
              "      <td>-0.591182</td>\n",
              "      <td>-0.956888</td>\n",
              "      <td>-0.222326</td>\n",
              "    </tr>\n",
              "    <tr>\n",
              "      <th>1</th>\n",
              "      <td>-0.619915</td>\n",
              "      <td>1.837905</td>\n",
              "      <td>-2.053231</td>\n",
              "      <td>0.868583</td>\n",
              "      <td>-0.920734</td>\n",
              "      <td>1.250000</td>\n",
              "    </tr>\n",
              "    <tr>\n",
              "      <th>2</th>\n",
              "      <td>2.152957</td>\n",
              "      <td>-1.334661</td>\n",
              "      <td>0.076380</td>\n",
              "      <td>-1.246089</td>\n",
              "      <td>1.202272</td>\n",
              "      <td>1.250000</td>\n",
              "    </tr>\n",
              "    <tr>\n",
              "      <th>3</th>\n",
              "      <td>0.100000</td>\n",
              "      <td>-0.419678</td>\n",
              "      <td>2.294842</td>\n",
              "      <td>-2.594487</td>\n",
              "      <td>2.822756</td>\n",
              "      <td>1.250000</td>\n",
              "    </tr>\n",
              "    <tr>\n",
              "      <th>4</th>\n",
              "      <td>0.100000</td>\n",
              "      <td>-1.976254</td>\n",
              "      <td>0.533340</td>\n",
              "      <td>-0.290870</td>\n",
              "      <td>-0.513520</td>\n",
              "      <td>1.250000</td>\n",
              "    </tr>\n",
              "    <tr>\n",
              "      <th>5</th>\n",
              "      <td>0.100000</td>\n",
              "      <td>-1.839905</td>\n",
              "      <td>1.607671</td>\n",
              "      <td>0.388292</td>\n",
              "      <td>0.399732</td>\n",
              "      <td>0.405477</td>\n",
              "    </tr>\n",
              "  </tbody>\n",
              "</table>\n",
              "</div>"
            ],
            "text/plain": [
              "          0         1         2         3         4         5\n",
              "0  0.228273  1.026890 -0.839585 -0.591182 -0.956888 -0.222326\n",
              "1 -0.619915  1.837905 -2.053231  0.868583 -0.920734  1.250000\n",
              "2  2.152957 -1.334661  0.076380 -1.246089  1.202272  1.250000\n",
              "3  0.100000 -0.419678  2.294842 -2.594487  2.822756  1.250000\n",
              "4  0.100000 -1.976254  0.533340 -0.290870 -0.513520  1.250000\n",
              "5  0.100000 -1.839905  1.607671  0.388292  0.399732  0.405477"
            ]
          },
          "metadata": {
            "tags": []
          },
          "execution_count": 9
        }
      ]
    },
    {
      "cell_type": "code",
      "metadata": {
        "id": "VdgKF4_72cWO",
        "colab_type": "code",
        "outputId": "c8782800-7db9-410b-91a3-55a7821d5614",
        "colab": {
          "base_uri": "https://localhost:8080/",
          "height": 235
        }
      },
      "source": [
        "# now lets used the fill foward method\n",
        "\n",
        "# you can fill missing values using ffill, it will fill the values\n",
        "#with the last number encounter in the column\n",
        "\n",
        "filled_DF = DF_obj.fillna(method = 'ffill')\n",
        "\n",
        "filled_DF"
      ],
      "execution_count": 0,
      "outputs": [
        {
          "output_type": "execute_result",
          "data": {
            "text/html": [
              "<div>\n",
              "<style scoped>\n",
              "    .dataframe tbody tr th:only-of-type {\n",
              "        vertical-align: middle;\n",
              "    }\n",
              "\n",
              "    .dataframe tbody tr th {\n",
              "        vertical-align: top;\n",
              "    }\n",
              "\n",
              "    .dataframe thead th {\n",
              "        text-align: right;\n",
              "    }\n",
              "</style>\n",
              "<table border=\"1\" class=\"dataframe\">\n",
              "  <thead>\n",
              "    <tr style=\"text-align: right;\">\n",
              "      <th></th>\n",
              "      <th>0</th>\n",
              "      <th>1</th>\n",
              "      <th>2</th>\n",
              "      <th>3</th>\n",
              "      <th>4</th>\n",
              "      <th>5</th>\n",
              "    </tr>\n",
              "  </thead>\n",
              "  <tbody>\n",
              "    <tr>\n",
              "      <th>0</th>\n",
              "      <td>0.228273</td>\n",
              "      <td>1.026890</td>\n",
              "      <td>-0.839585</td>\n",
              "      <td>-0.591182</td>\n",
              "      <td>-0.956888</td>\n",
              "      <td>-0.222326</td>\n",
              "    </tr>\n",
              "    <tr>\n",
              "      <th>1</th>\n",
              "      <td>-0.619915</td>\n",
              "      <td>1.837905</td>\n",
              "      <td>-2.053231</td>\n",
              "      <td>0.868583</td>\n",
              "      <td>-0.920734</td>\n",
              "      <td>-0.222326</td>\n",
              "    </tr>\n",
              "    <tr>\n",
              "      <th>2</th>\n",
              "      <td>2.152957</td>\n",
              "      <td>-1.334661</td>\n",
              "      <td>0.076380</td>\n",
              "      <td>-1.246089</td>\n",
              "      <td>1.202272</td>\n",
              "      <td>-0.222326</td>\n",
              "    </tr>\n",
              "    <tr>\n",
              "      <th>3</th>\n",
              "      <td>2.152957</td>\n",
              "      <td>-0.419678</td>\n",
              "      <td>2.294842</td>\n",
              "      <td>-2.594487</td>\n",
              "      <td>2.822756</td>\n",
              "      <td>-0.222326</td>\n",
              "    </tr>\n",
              "    <tr>\n",
              "      <th>4</th>\n",
              "      <td>2.152957</td>\n",
              "      <td>-1.976254</td>\n",
              "      <td>0.533340</td>\n",
              "      <td>-0.290870</td>\n",
              "      <td>-0.513520</td>\n",
              "      <td>-0.222326</td>\n",
              "    </tr>\n",
              "    <tr>\n",
              "      <th>5</th>\n",
              "      <td>2.152957</td>\n",
              "      <td>-1.839905</td>\n",
              "      <td>1.607671</td>\n",
              "      <td>0.388292</td>\n",
              "      <td>0.399732</td>\n",
              "      <td>0.405477</td>\n",
              "    </tr>\n",
              "  </tbody>\n",
              "</table>\n",
              "</div>"
            ],
            "text/plain": [
              "          0         1         2         3         4         5\n",
              "0  0.228273  1.026890 -0.839585 -0.591182 -0.956888 -0.222326\n",
              "1 -0.619915  1.837905 -2.053231  0.868583 -0.920734 -0.222326\n",
              "2  2.152957 -1.334661  0.076380 -1.246089  1.202272 -0.222326\n",
              "3  2.152957 -0.419678  2.294842 -2.594487  2.822756 -0.222326\n",
              "4  2.152957 -1.976254  0.533340 -0.290870 -0.513520 -0.222326\n",
              "5  2.152957 -1.839905  1.607671  0.388292  0.399732  0.405477"
            ]
          },
          "metadata": {
            "tags": []
          },
          "execution_count": 10
        }
      ]
    },
    {
      "cell_type": "code",
      "metadata": {
        "id": "29iDJWOZ3Hqp",
        "colab_type": "code",
        "outputId": "682cd563-b0c6-4555-c3a5-5c92aeca1cb6",
        "colab": {
          "base_uri": "https://localhost:8080/",
          "height": 235
        }
      },
      "source": [
        "# COUNT MISSING VALUES\n",
        "\n",
        "# WHICH VARIABLES ARE MORE PROBLEMATIC.\n",
        "\n",
        "np.random.seed(25)\n",
        "DF_obj = DataFrame(np.random.randn(36).reshape(6,6))\n",
        "DF_obj.loc[3:5,0] = missing\n",
        "DF_obj.loc[1:4,5] = missing\n",
        "\n",
        "DF_obj\n"
      ],
      "execution_count": 0,
      "outputs": [
        {
          "output_type": "execute_result",
          "data": {
            "text/html": [
              "<div>\n",
              "<style scoped>\n",
              "    .dataframe tbody tr th:only-of-type {\n",
              "        vertical-align: middle;\n",
              "    }\n",
              "\n",
              "    .dataframe tbody tr th {\n",
              "        vertical-align: top;\n",
              "    }\n",
              "\n",
              "    .dataframe thead th {\n",
              "        text-align: right;\n",
              "    }\n",
              "</style>\n",
              "<table border=\"1\" class=\"dataframe\">\n",
              "  <thead>\n",
              "    <tr style=\"text-align: right;\">\n",
              "      <th></th>\n",
              "      <th>0</th>\n",
              "      <th>1</th>\n",
              "      <th>2</th>\n",
              "      <th>3</th>\n",
              "      <th>4</th>\n",
              "      <th>5</th>\n",
              "    </tr>\n",
              "  </thead>\n",
              "  <tbody>\n",
              "    <tr>\n",
              "      <th>0</th>\n",
              "      <td>0.228273</td>\n",
              "      <td>1.026890</td>\n",
              "      <td>-0.839585</td>\n",
              "      <td>-0.591182</td>\n",
              "      <td>-0.956888</td>\n",
              "      <td>-0.222326</td>\n",
              "    </tr>\n",
              "    <tr>\n",
              "      <th>1</th>\n",
              "      <td>-0.619915</td>\n",
              "      <td>1.837905</td>\n",
              "      <td>-2.053231</td>\n",
              "      <td>0.868583</td>\n",
              "      <td>-0.920734</td>\n",
              "      <td>NaN</td>\n",
              "    </tr>\n",
              "    <tr>\n",
              "      <th>2</th>\n",
              "      <td>2.152957</td>\n",
              "      <td>-1.334661</td>\n",
              "      <td>0.076380</td>\n",
              "      <td>-1.246089</td>\n",
              "      <td>1.202272</td>\n",
              "      <td>NaN</td>\n",
              "    </tr>\n",
              "    <tr>\n",
              "      <th>3</th>\n",
              "      <td>NaN</td>\n",
              "      <td>-0.419678</td>\n",
              "      <td>2.294842</td>\n",
              "      <td>-2.594487</td>\n",
              "      <td>2.822756</td>\n",
              "      <td>NaN</td>\n",
              "    </tr>\n",
              "    <tr>\n",
              "      <th>4</th>\n",
              "      <td>NaN</td>\n",
              "      <td>-1.976254</td>\n",
              "      <td>0.533340</td>\n",
              "      <td>-0.290870</td>\n",
              "      <td>-0.513520</td>\n",
              "      <td>NaN</td>\n",
              "    </tr>\n",
              "    <tr>\n",
              "      <th>5</th>\n",
              "      <td>NaN</td>\n",
              "      <td>-1.839905</td>\n",
              "      <td>1.607671</td>\n",
              "      <td>0.388292</td>\n",
              "      <td>0.399732</td>\n",
              "      <td>0.405477</td>\n",
              "    </tr>\n",
              "  </tbody>\n",
              "</table>\n",
              "</div>"
            ],
            "text/plain": [
              "          0         1         2         3         4         5\n",
              "0  0.228273  1.026890 -0.839585 -0.591182 -0.956888 -0.222326\n",
              "1 -0.619915  1.837905 -2.053231  0.868583 -0.920734       NaN\n",
              "2  2.152957 -1.334661  0.076380 -1.246089  1.202272       NaN\n",
              "3       NaN -0.419678  2.294842 -2.594487  2.822756       NaN\n",
              "4       NaN -1.976254  0.533340 -0.290870 -0.513520       NaN\n",
              "5       NaN -1.839905  1.607671  0.388292  0.399732  0.405477"
            ]
          },
          "metadata": {
            "tags": []
          },
          "execution_count": 11
        }
      ]
    },
    {
      "cell_type": "code",
      "metadata": {
        "id": "VhFaoaKi3ut_",
        "colab_type": "code",
        "outputId": "524ca394-2b17-4fd2-e722-4c6440492996",
        "colab": {
          "base_uri": "https://localhost:8080/",
          "height": 136
        }
      },
      "source": [
        "# lets count missing values by calling .isnull and sum the values\n",
        "# that are true by calling the method .sum()\n",
        "\n",
        "DF_obj.isnull().sum()"
      ],
      "execution_count": 0,
      "outputs": [
        {
          "output_type": "execute_result",
          "data": {
            "text/plain": [
              "0    3\n",
              "1    0\n",
              "2    0\n",
              "3    0\n",
              "4    0\n",
              "5    4\n",
              "dtype: int64"
            ]
          },
          "metadata": {
            "tags": []
          },
          "execution_count": 12
        }
      ]
    },
    {
      "cell_type": "code",
      "metadata": {
        "id": "LLjLiwnw4J63",
        "colab_type": "code",
        "outputId": "4b8a760e-2c29-449c-f5c0-1dd329c8a35d",
        "colab": {
          "base_uri": "https://localhost:8080/",
          "height": 235
        }
      },
      "source": [
        "#filtering out missing values\n",
        "\n",
        "# to identify and drop all the rows from a dataframe\n",
        "#that contain any missing values we use the method .dropna() of the data\n",
        "# frame object.\n",
        "#to drop the columns we pass in the axis = 1 argument, to select and search\n",
        "#the data frame by columns and not by rows. when axis = 0 it does it by rows\n",
        "\n",
        "DF_no_NaN = DF_obj.dropna(axis = 1)\n",
        "DF_no_NaN "
      ],
      "execution_count": 0,
      "outputs": [
        {
          "output_type": "execute_result",
          "data": {
            "text/html": [
              "<div>\n",
              "<style scoped>\n",
              "    .dataframe tbody tr th:only-of-type {\n",
              "        vertical-align: middle;\n",
              "    }\n",
              "\n",
              "    .dataframe tbody tr th {\n",
              "        vertical-align: top;\n",
              "    }\n",
              "\n",
              "    .dataframe thead th {\n",
              "        text-align: right;\n",
              "    }\n",
              "</style>\n",
              "<table border=\"1\" class=\"dataframe\">\n",
              "  <thead>\n",
              "    <tr style=\"text-align: right;\">\n",
              "      <th></th>\n",
              "      <th>1</th>\n",
              "      <th>2</th>\n",
              "      <th>3</th>\n",
              "      <th>4</th>\n",
              "    </tr>\n",
              "  </thead>\n",
              "  <tbody>\n",
              "    <tr>\n",
              "      <th>0</th>\n",
              "      <td>1.026890</td>\n",
              "      <td>-0.839585</td>\n",
              "      <td>-0.591182</td>\n",
              "      <td>-0.956888</td>\n",
              "    </tr>\n",
              "    <tr>\n",
              "      <th>1</th>\n",
              "      <td>1.837905</td>\n",
              "      <td>-2.053231</td>\n",
              "      <td>0.868583</td>\n",
              "      <td>-0.920734</td>\n",
              "    </tr>\n",
              "    <tr>\n",
              "      <th>2</th>\n",
              "      <td>-1.334661</td>\n",
              "      <td>0.076380</td>\n",
              "      <td>-1.246089</td>\n",
              "      <td>1.202272</td>\n",
              "    </tr>\n",
              "    <tr>\n",
              "      <th>3</th>\n",
              "      <td>-0.419678</td>\n",
              "      <td>2.294842</td>\n",
              "      <td>-2.594487</td>\n",
              "      <td>2.822756</td>\n",
              "    </tr>\n",
              "    <tr>\n",
              "      <th>4</th>\n",
              "      <td>-1.976254</td>\n",
              "      <td>0.533340</td>\n",
              "      <td>-0.290870</td>\n",
              "      <td>-0.513520</td>\n",
              "    </tr>\n",
              "    <tr>\n",
              "      <th>5</th>\n",
              "      <td>-1.839905</td>\n",
              "      <td>1.607671</td>\n",
              "      <td>0.388292</td>\n",
              "      <td>0.399732</td>\n",
              "    </tr>\n",
              "  </tbody>\n",
              "</table>\n",
              "</div>"
            ],
            "text/plain": [
              "          1         2         3         4\n",
              "0  1.026890 -0.839585 -0.591182 -0.956888\n",
              "1  1.837905 -2.053231  0.868583 -0.920734\n",
              "2 -1.334661  0.076380 -1.246089  1.202272\n",
              "3 -0.419678  2.294842 -2.594487  2.822756\n",
              "4 -1.976254  0.533340 -0.290870 -0.513520\n",
              "5 -1.839905  1.607671  0.388292  0.399732"
            ]
          },
          "metadata": {
            "tags": []
          },
          "execution_count": 15
        }
      ]
    },
    {
      "cell_type": "code",
      "metadata": {
        "id": "IZcLfuQH5Ejx",
        "colab_type": "code",
        "outputId": "3758fd5e-11a9-4110-ef80-39fc42f0dd84",
        "colab": {
          "base_uri": "https://localhost:8080/",
          "height": 235
        }
      },
      "source": [
        "# now lets use the drop.na method to only drop rows that contain \n",
        "# all missing values. however, this dataset doesnt have a row \n",
        "#with all missing values so it prints the same matrix\n",
        "# to do this use pass the argument how='all'\n",
        "\n",
        "\n",
        "DF_obj.dropna(how='all')\n",
        "\n",
        "\n",
        "\n"
      ],
      "execution_count": 0,
      "outputs": [
        {
          "output_type": "execute_result",
          "data": {
            "text/html": [
              "<div>\n",
              "<style scoped>\n",
              "    .dataframe tbody tr th:only-of-type {\n",
              "        vertical-align: middle;\n",
              "    }\n",
              "\n",
              "    .dataframe tbody tr th {\n",
              "        vertical-align: top;\n",
              "    }\n",
              "\n",
              "    .dataframe thead th {\n",
              "        text-align: right;\n",
              "    }\n",
              "</style>\n",
              "<table border=\"1\" class=\"dataframe\">\n",
              "  <thead>\n",
              "    <tr style=\"text-align: right;\">\n",
              "      <th></th>\n",
              "      <th>0</th>\n",
              "      <th>1</th>\n",
              "      <th>2</th>\n",
              "      <th>3</th>\n",
              "      <th>4</th>\n",
              "      <th>5</th>\n",
              "    </tr>\n",
              "  </thead>\n",
              "  <tbody>\n",
              "    <tr>\n",
              "      <th>0</th>\n",
              "      <td>0.228273</td>\n",
              "      <td>1.026890</td>\n",
              "      <td>-0.839585</td>\n",
              "      <td>-0.591182</td>\n",
              "      <td>-0.956888</td>\n",
              "      <td>-0.222326</td>\n",
              "    </tr>\n",
              "    <tr>\n",
              "      <th>1</th>\n",
              "      <td>-0.619915</td>\n",
              "      <td>1.837905</td>\n",
              "      <td>-2.053231</td>\n",
              "      <td>0.868583</td>\n",
              "      <td>-0.920734</td>\n",
              "      <td>NaN</td>\n",
              "    </tr>\n",
              "    <tr>\n",
              "      <th>2</th>\n",
              "      <td>2.152957</td>\n",
              "      <td>-1.334661</td>\n",
              "      <td>0.076380</td>\n",
              "      <td>-1.246089</td>\n",
              "      <td>1.202272</td>\n",
              "      <td>NaN</td>\n",
              "    </tr>\n",
              "    <tr>\n",
              "      <th>3</th>\n",
              "      <td>NaN</td>\n",
              "      <td>-0.419678</td>\n",
              "      <td>2.294842</td>\n",
              "      <td>-2.594487</td>\n",
              "      <td>2.822756</td>\n",
              "      <td>NaN</td>\n",
              "    </tr>\n",
              "    <tr>\n",
              "      <th>4</th>\n",
              "      <td>NaN</td>\n",
              "      <td>-1.976254</td>\n",
              "      <td>0.533340</td>\n",
              "      <td>-0.290870</td>\n",
              "      <td>-0.513520</td>\n",
              "      <td>NaN</td>\n",
              "    </tr>\n",
              "    <tr>\n",
              "      <th>5</th>\n",
              "      <td>NaN</td>\n",
              "      <td>-1.839905</td>\n",
              "      <td>1.607671</td>\n",
              "      <td>0.388292</td>\n",
              "      <td>0.399732</td>\n",
              "      <td>0.405477</td>\n",
              "    </tr>\n",
              "  </tbody>\n",
              "</table>\n",
              "</div>"
            ],
            "text/plain": [
              "          0         1         2         3         4         5\n",
              "0  0.228273  1.026890 -0.839585 -0.591182 -0.956888 -0.222326\n",
              "1 -0.619915  1.837905 -2.053231  0.868583 -0.920734       NaN\n",
              "2  2.152957 -1.334661  0.076380 -1.246089  1.202272       NaN\n",
              "3       NaN -0.419678  2.294842 -2.594487  2.822756       NaN\n",
              "4       NaN -1.976254  0.533340 -0.290870 -0.513520       NaN\n",
              "5       NaN -1.839905  1.607671  0.388292  0.399732  0.405477"
            ]
          },
          "metadata": {
            "tags": []
          },
          "execution_count": 17
        }
      ]
    }
  ]
}
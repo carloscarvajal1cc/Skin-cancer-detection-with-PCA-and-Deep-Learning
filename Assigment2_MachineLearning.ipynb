{
  "nbformat": 4,
  "nbformat_minor": 0,
  "metadata": {
    "colab": {
      "name": "Assigment2_MachineLearning.ipynb",
      "version": "0.3.2",
      "provenance": [],
      "collapsed_sections": [],
      "toc_visible": true,
      "include_colab_link": true
    },
    "kernelspec": {
      "name": "python3",
      "display_name": "Python 3"
    }
  },
  "cells": [
    {
      "cell_type": "markdown",
      "metadata": {
        "id": "view-in-github",
        "colab_type": "text"
      },
      "source": [
        "<a href=\"https://colab.research.google.com/github/carloscarvajal1cc/UTS_MachineLearning_Assigment2/blob/carlos-change/Assigment2_MachineLearning.ipynb\" target=\"_parent\"><img src=\"https://colab.research.google.com/assets/colab-badge.svg\" alt=\"Open In Colab\"/></a>"
      ]
    },
    {
      "cell_type": "markdown",
      "metadata": {
        "id": "PDH6k1F4Fkhu",
        "colab_type": "text"
      },
      "source": [
        "# Assignment 2: titulo aqui\n",
        "\n",
        "\n",
        "\n",
        "\n"
      ]
    },
    {
      "cell_type": "markdown",
      "metadata": {
        "id": "bkN_ncnoGpL7",
        "colab_type": "text"
      },
      "source": [
        "<br>32513 Machine Learning Spring 2019\n",
        "<br>By Carlos Mario Carvajal Moreno. Student ID: 13144148\n",
        "<br>and Andres Felipe Lagos Rodriguez. Student ID: 13092248\n",
        "    \n",
        "\n",
        "\n"
      ]
    },
    {
      "cell_type": "markdown",
      "metadata": {
        "id": "FhFaJlVwzuip",
        "colab_type": "text"
      },
      "source": [
        "trying a new change"
      ]
    },
    {
      "cell_type": "markdown",
      "metadata": {
        "id": "727hPmhVDP0D",
        "colab_type": "text"
      },
      "source": [
        "# Abstract\n",
        "\n",
        "\n",
        "\n",
        "<p align=\"justify\"> \n",
        "\n",
        "---\n",
        "### index \n",
        "\n",
        "\n",
        "---\n",
        "\n"
      ]
    },
    {
      "cell_type": "markdown",
      "metadata": {
        "id": "6Gph_pXBEyjg",
        "colab_type": "text"
      },
      "source": [
        "# I. Introduction\n",
        "<br><p align=\"justify\"> Define Problem; Justify\n",
        "Significance W-200**"
      ]
    },
    {
      "cell_type": "markdown",
      "metadata": {
        "id": "_sj2Rl6gFgfs",
        "colab_type": "text"
      },
      "source": [
        "# II. Exploration\n",
        "\n",
        "<br><p align=\"justify\"> identify challenges; design data structures, plan data models and tests (300)\n"
      ]
    },
    {
      "cell_type": "markdown",
      "metadata": {
        "id": "ZZvGkbAhJfbw",
        "colab_type": "text"
      },
      "source": [
        "# III. Methodology\n",
        "<br>\n",
        "<p align=\"justify\"> Implement algorithms; build and train data models (300 words)"
      ]
    },
    {
      "cell_type": "markdown",
      "metadata": {
        "id": "7CNPSPrdKXU_",
        "colab_type": "text"
      },
      "source": [
        "# IV. Evaluation\n",
        "<br>\n",
        "<p align=\"justify\"> Report execution on data, perform and report testing,\n",
        "perform efficiency analysis, do possible comparative analysis 200 words."
      ]
    },
    {
      "cell_type": "markdown",
      "metadata": {
        "id": "irORm5diOSyb",
        "colab_type": "text"
      },
      "source": [
        "# V.\tConclusion\n",
        "\n",
        "<br><p align=\"justify\"> Discuss reflections, proppose possible improvements.\n",
        " \n",
        "\n",
        "\n"
      ]
    },
    {
      "cell_type": "markdown",
      "metadata": {
        "id": "8DOoXSNRavh-",
        "colab_type": "text"
      },
      "source": [
        "# VI.\tEthical Discussion\n",
        "\n",
        "<br><p align=\"justify\"> \n",
        "  {The report includes discussions about the social/ethical aspect of the proposed technique/\n",
        "project. You can adopt one or more ethical models, such as the utilitarian approach or the\n",
        "Kantian duty-based approach. You should anticipate the potential misuses of your technique. }"
      ]
    },
    {
      "cell_type": "markdown",
      "metadata": {
        "id": "5JN-usYOa8V9",
        "colab_type": "text"
      },
      "source": [
        "# VII.\tReferences.\n",
        "\n",
        "\n",
        "\n"
      ]
    },
    {
      "cell_type": "markdown",
      "metadata": {
        "id": "67zJq7MVgtEm",
        "colab_type": "text"
      },
      "source": [
        "The report is clearly structured and well written."
      ]
    },
    {
      "cell_type": "markdown",
      "metadata": {
        "id": "dtqELRM3gwnx",
        "colab_type": "text"
      },
      "source": [
        "The practical problem is well-motivated with clear practical significance. The design/planning\n",
        "of the research/development is clear and logical, including considerations about data\n",
        "acquisition, quality control, modelling techniques, evaluation method and criteria, etc.\n",
        "The design of data models and experiments is logical. The implementation is correct, efficient\n",
        "and practically complete (comparing, or at least, considering alternatives). The evaluation\n",
        "report is convincing; the implementation of the experiments can be easily accessed from a\n",
        "cloud-based service such as Github and replicated for assessment"
      ]
    },
    {
      "cell_type": "markdown",
      "metadata": {
        "id": "vZ3PIdirJd3f",
        "colab_type": "text"
      },
      "source": [
        "#VIII. Draft and experimenting section\n",
        "\n",
        "<br><p align=\"justify\"> This section is designed to experiment and try to reinforce the authors claim or to show some of the aspects that were recomended for improvement, by using the technology capacity of today.\n",
        "\n",
        "<br><p align=\"justify\"> First, lets import a series of packages that will help developing the analysis:"
      ]
    },
    {
      "cell_type": "code",
      "metadata": {
        "id": "Pxdd5d0XSY-B",
        "colab_type": "code",
        "colab": {}
      },
      "source": [
        "import skimage\n",
        "import numpy as np\n",
        "import pandas as pd\n",
        "import random as rd\n",
        "\n",
        "%matplotlib inline\n",
        "import numpy as np\n",
        "import matplotlib.pyplot as plt\n",
        "import seaborn as sns; sns.set()"
      ],
      "execution_count": 0,
      "outputs": []
    },
    {
      "cell_type": "markdown",
      "metadata": {
        "id": "0aL43da8kOkC",
        "colab_type": "text"
      },
      "source": [
        "## VIII-I. Importing the dataset "
      ]
    },
    {
      "cell_type": "markdown",
      "metadata": {
        "id": "WSdQYXW6jdIQ",
        "colab_type": "text"
      },
      "source": [
        "<p align=\"justify\">Now, we import a public dataset from sklearn that is relevant for the domain of face recognition because the images contain variations in facial expressions, poses and lighting, which are relevant for the replication of the subject of this paper:"
      ]
    },
    {
      "cell_type": "code",
      "metadata": {
        "id": "MMCmQqFgSbAs",
        "colab_type": "code",
        "colab": {}
      },
      "source": [
        "from sklearn.datasets import fetch_lfw_people"
      ],
      "execution_count": 0,
      "outputs": []
    },
    {
      "cell_type": "code",
      "metadata": {
        "id": "RtGSZhFjSdgn",
        "colab_type": "code",
        "colab": {}
      },
      "source": [
        "faces = fetch_lfw_people(min_faces_per_person=60)"
      ],
      "execution_count": 0,
      "outputs": []
    },
    {
      "cell_type": "code",
      "metadata": {
        "id": "hlJ8c90BSkef",
        "colab_type": "code",
        "outputId": "b2dd5472-2989-4565-9ad1-1f7d01d3952e",
        "colab": {
          "base_uri": "https://localhost:8080/",
          "height": 68
        }
      },
      "source": [
        "print(faces.target_names)\n",
        "print(faces.images.shape)"
      ],
      "execution_count": 0,
      "outputs": [
        {
          "output_type": "stream",
          "text": [
            "['Ariel Sharon' 'Colin Powell' 'Donald Rumsfeld' 'George W Bush'\n",
            " 'Gerhard Schroeder' 'Hugo Chavez' 'Junichiro Koizumi' 'Tony Blair']\n",
            "(1348, 62, 47)\n"
          ],
          "name": "stdout"
        }
      ]
    },
    {
      "cell_type": "code",
      "metadata": {
        "id": "h8zUz4VCsqny",
        "colab_type": "code",
        "outputId": "da3e53da-64c8-4b99-cd04-13d3d2e61410",
        "colab": {
          "base_uri": "https://localhost:8080/",
          "height": 308
        }
      },
      "source": [
        "%matplotlib inline\n",
        "import matplotlib.pyplot as plt\n",
        "\n",
        "#Let's print the name of the second class in the dataset and the reconstruction \n",
        "# of the pixels in a plot.\n",
        "\n",
        "picture_number =  #remember there are 1348 images, any image can be observed \n",
        "                    #choosing a number between 0 and 1348 as well as the\n",
        "                      #corresponding name.\n",
        "\n",
        "print(\"The following image correspond to {}\".format(faces.target_names[\n",
        "    faces.target[picture_number]]))\n",
        "plt.imshow(faces.images[picture_number])\n"
      ],
      "execution_count": 0,
      "outputs": [
        {
          "output_type": "stream",
          "text": [
            "The following image correspond to Colin Powell\n"
          ],
          "name": "stdout"
        },
        {
          "output_type": "execute_result",
          "data": {
            "text/plain": [
              "<matplotlib.image.AxesImage at 0x7f382f29cc18>"
            ]
          },
          "metadata": {
            "tags": []
          },
          "execution_count": 97
        },
        {
          "output_type": "display_data",
          "data": {
            "image/png": "[encoded data removed]",
            "text/plain": [
              "<Figure size 432x288 with 1 Axes>"
            ]
          },
          "metadata": {
            "tags": []
          }
        }
      ]
    },
    {
      "cell_type": "markdown",
      "metadata": {
        "id": "iyVym_p2ofri",
        "colab_type": "text"
      },
      "source": [
        "This dataset contains 1348 observations, 8 classes corresponding to 8 well known people and $62*47$ dimensions, defined by the number of pixels (2914 in total).\n",
        "\n",
        "\n",
        "\n",
        "<br> Now we will use PCA and Eigenfaces as the approach used by the authors in the paper:"
      ]
    },
    {
      "cell_type": "markdown",
      "metadata": {
        "id": "6e9N6Y1spQ25",
        "colab_type": "text"
      },
      "source": [
        "## VIII-II Eigenfaces and PCA\n",
        "\n",
        "Lets import the PCA functions from Sklearn:"
      ]
    },
    {
      "cell_type": "code",
      "metadata": {
        "id": "mtVuZt8lUZqT",
        "colab_type": "code",
        "colab": {}
      },
      "source": [
        "from sklearn.decomposition import PCA"
      ],
      "execution_count": 0,
      "outputs": []
    },
    {
      "cell_type": "markdown",
      "metadata": {
        "id": "OfzC9EzzpzuN",
        "colab_type": "text"
      },
      "source": [
        "Now we create or pca model. PCA performs a linear dimensionality reduction using Singular Value Decomposition (SVD) of the data, in this case of the image space, in order to achieve a lower dimensional image space. \n",
        "\n",
        "Let's assign 150 principal components and use randomized svd solver to "
      ]
    },
    {
      "cell_type": "code",
      "metadata": {
        "id": "GOgh6TOPUp4_",
        "colab_type": "code",
        "outputId": "24afe1d6-d8cb-4bd0-ac7f-3cc5f9afd5e9",
        "colab": {
          "base_uri": "https://localhost:8080/",
          "height": 51
        }
      },
      "source": [
        "pca = PCA(n_components = 150, svd_solver='randomized', whiten=True)\n",
        "pca.fit(faces.data)"
      ],
      "execution_count": 0,
      "outputs": [
        {
          "output_type": "execute_result",
          "data": {
            "text/plain": [
              "PCA(copy=True, iterated_power='auto', n_components=150, random_state=None,\n",
              "    svd_solver='randomized', tol=0.0, whiten=True)"
            ]
          },
          "metadata": {
            "tags": []
          },
          "execution_count": 7
        }
      ]
    },
    {
      "cell_type": "markdown",
      "metadata": {
        "id": "ttEsWfRTyjbj",
        "colab_type": "text"
      },
      "source": [
        "Now we have a dimensional reduced image space. Instead of having 2914 dimensions we now have 150, and have reduced the dimensionality of the data."
      ]
    },
    {
      "cell_type": "code",
      "metadata": {
        "id": "VQXBGjYcsAk1",
        "colab_type": "code",
        "outputId": "19fcc1bc-ed67-4f54-8626-01009c144f05",
        "colab": {
          "base_uri": "https://localhost:8080/",
          "height": 34
        }
      },
      "source": [
        "output = pca.fit_transform(faces.data)\n",
        "output.shape"
      ],
      "execution_count": 0,
      "outputs": [
        {
          "output_type": "execute_result",
          "data": {
            "text/plain": [
              "(1348, 150)"
            ]
          },
          "metadata": {
            "tags": []
          },
          "execution_count": 8
        }
      ]
    },
    {
      "cell_type": "markdown",
      "metadata": {
        "id": "QM0_7GVXz7Sx",
        "colab_type": "text"
      },
      "source": [
        "Consequently, we will use the output we created as output data, containing all the images but this time with 150 feautures."
      ]
    },
    {
      "cell_type": "code",
      "metadata": {
        "id": "57twwqPH03jb",
        "colab_type": "code",
        "colab": {}
      },
      "source": [
        "# Let's assigned the arrays to our output matrix:\n",
        "n_samples, h = output.shape\n",
        "\n",
        "#let's call our output matrix X, where the second [1], array correspond to features\n",
        "X = output.data\n",
        "n_features = X.shape[1]"
      ],
      "execution_count": 0,
      "outputs": []
    },
    {
      "cell_type": "code",
      "metadata": {
        "id": "HN3RLkAn1S-Z",
        "colab_type": "code",
        "outputId": "1dc76885-c151-4c75-f9d2-ee2cd6c823af",
        "colab": {
          "base_uri": "https://localhost:8080/",
          "height": 68
        }
      },
      "source": [
        "# lets formalized our output:\n",
        "\n",
        "print(\"Total dataset size:\")\n",
        "print(\"n_samples: {}\".format(n_samples))\n",
        "print(\"n_features: {}\".format(n_features))"
      ],
      "execution_count": 0,
      "outputs": [
        {
          "output_type": "stream",
          "text": [
            "Total dataset size:\n",
            "n_samples: 1348\n",
            "n_features: 150\n"
          ],
          "name": "stdout"
        }
      ]
    },
    {
      "cell_type": "code",
      "metadata": {
        "id": "G-wRIdNJ2adM",
        "colab_type": "code",
        "colab": {}
      },
      "source": [
        "# now lets assigned y to the array containing the target values.\n",
        "\n",
        "y = faces.target\n",
        "target_names = faces.target_names\n",
        "n_classes = target_names.shape[0]"
      ],
      "execution_count": 0,
      "outputs": []
    },
    {
      "cell_type": "code",
      "metadata": {
        "id": "LmBdxR2-2lmW",
        "colab_type": "code",
        "outputId": "ff810ed7-7637-4cb6-de98-a3a3378132cb",
        "colab": {
          "base_uri": "https://localhost:8080/",
          "height": 51
        }
      },
      "source": [
        "print(\"n_classes: {}\".format(n_classes))\n",
        "print(\"The target values must be equal to the number of samples, which is {}\".\n",
        "      format(y.shape[0]))"
      ],
      "execution_count": 0,
      "outputs": [
        {
          "output_type": "stream",
          "text": [
            "n_classes: 8\n",
            "The target values must be equal to the number of samples, which is 1348\n"
          ],
          "name": "stdout"
        }
      ]
    },
    {
      "cell_type": "code",
      "metadata": {
        "id": "01MYucOGdTEQ",
        "colab_type": "code",
        "colab": {}
      },
      "source": [
        "# or the same procedure can be done by:\n",
        "\n",
        "# n_samples, h, w = faces.images.shape"
      ],
      "execution_count": 0,
      "outputs": []
    },
    {
      "cell_type": "markdown",
      "metadata": {
        "id": "UOm19yxs9zOv",
        "colab_type": "text"
      },
      "source": [
        "If we plot the variance explained by the number of components, we can observe that the first 80 components explain 90% of the variance of the images. Which mean that it is not necessary to consider a large number of dimensions in order to build a face recognition model."
      ]
    },
    {
      "cell_type": "code",
      "metadata": {
        "id": "SeLzxkOVUnwk",
        "colab_type": "code",
        "outputId": "31924dad-d260-4756-98ce-06da08914262",
        "colab": {
          "base_uri": "https://localhost:8080/",
          "height": 291
        }
      },
      "source": [
        "plt.plot(np.cumsum(pca.explained_variance_ratio_))\n",
        "plt.xlabel('number of components')\n",
        "plt.ylabel('cumulative explained variance');"
      ],
      "execution_count": 0,
      "outputs": [
        {
          "output_type": "display_data",
          "data": {
            "image/png": "[encoded data removed]",
            "text/plain": [
              "<Figure size 432x288 with 1 Axes>"
            ]
          },
          "metadata": {
            "tags": []
          }
        }
      ]
    },
    {
      "cell_type": "markdown",
      "metadata": {
        "id": "2Ndg5peeh3Cy",
        "colab_type": "text"
      },
      "source": [
        "Also, we can plot the variance effect of each component in the image set. For these purpose, I am just going to plot the first 10 components and their corresponding explained variance:"
      ]
    },
    {
      "cell_type": "code",
      "metadata": {
        "id": "jHFucd69YUjr",
        "colab_type": "code",
        "colab": {}
      },
      "source": [
        "from sklearn.preprocessing import normalize\n",
        "from sklearn import preprocessing"
      ],
      "execution_count": 0,
      "outputs": []
    },
    {
      "cell_type": "code",
      "metadata": {
        "id": "2IQ2Wt9-oA0k",
        "colab_type": "code",
        "outputId": "cb346bb0-5cca-4d51-b4e8-00f17d85c2e3",
        "colab": {
          "base_uri": "https://localhost:8080/",
          "height": 71
        }
      },
      "source": [
        "a = pca.explained_variance_ratio_[[range(10)]]"
      ],
      "execution_count": 0,
      "outputs": [
        {
          "output_type": "stream",
          "text": [
            "/usr/local/lib/python3.6/dist-packages/ipykernel_launcher.py:1: FutureWarning: Using a non-tuple sequence for multidimensional indexing is deprecated; use `arr[tuple(seq)]` instead of `arr[seq]`. In the future this will be interpreted as an array index, `arr[np.array(seq)]`, which will result either in an error or a different result.\n",
            "  \"\"\"Entry point for launching an IPython kernel.\n"
          ],
          "name": "stderr"
        }
      ]
    },
    {
      "cell_type": "code",
      "metadata": {
        "id": "djCXKuuNZRa-",
        "colab_type": "code",
        "outputId": "eff8de50-ec53-44bb-8d85-6d85293c3e1e",
        "colab": {
          "base_uri": "https://localhost:8080/",
          "height": 318
        }
      },
      "source": [
        "per_var = np.round(a*100, decimals = 1)\n",
        "labels = ['PC' + str(x) for x in range(1, len(per_var)+1)]\n",
        "\n",
        "plt.bar(x=range(1, len(per_var)+1), height = per_var, tick_label = labels)\n",
        "plt.ylabel('Percentage of Explained Variance')\n",
        "plt.xlabel('Principal Component')\n",
        "plt.title('Variance explenation by first 10 principal components')\n",
        "plt.show()\n",
        "\n",
        "print(\"The sum of the first 10 components correspond to {}% of the variation explained by them\"\n",
        "      .format(round(sum(a)*100)))"
      ],
      "execution_count": 0,
      "outputs": [
        {
          "output_type": "display_data",
          "data": {
            "image/png": "[encoded data removed]",
            "text/plain": [
              "<Figure size 432x288 with 1 Axes>"
            ]
          },
          "metadata": {
            "tags": []
          }
        },
        {
          "output_type": "stream",
          "text": [
            "The sum of the first 10 components correspond to 63.0% of the variation explained by them\n"
          ],
          "name": "stdout"
        }
      ]
    },
    {
      "cell_type": "markdown",
      "metadata": {
        "id": "tA1yw8c45mKN",
        "colab_type": "text"
      },
      "source": [
        "We will now visualize what the first images of our data set would look like by only considering the first number of components, in order to have an overview of what variations they consider:"
      ]
    },
    {
      "cell_type": "code",
      "metadata": {
        "id": "D5CVur-KTrsH",
        "colab_type": "code",
        "outputId": "e52c8083-29d2-4549-ac6c-4b3e4672dc21",
        "colab": {
          "base_uri": "https://localhost:8080/",
          "height": 260
        }
      },
      "source": [
        "fig, axes = plt.subplots(3, 5, figsize=(9, 4),\n",
        "                         subplot_kw={'xticks':[], 'yticks':[]},\n",
        "                         gridspec_kw=dict(hspace=0.1, wspace=0.1))\n",
        "for i, ax in enumerate(axes.flat):\n",
        "    ax.imshow(pca.components_[i].reshape(62, 47), cmap='bone')\n",
        "    \n"
      ],
      "execution_count": 0,
      "outputs": [
        {
          "output_type": "display_data",
          "data": {
            "image/png": "[encoded data removed]",
            "text/plain": [
              "<Figure size 648x288 with 15 Axes>"
            ]
          },
          "metadata": {
            "tags": []
          }
        }
      ]
    },
    {
      "cell_type": "markdown",
      "metadata": {
        "id": "lCTEUWcDdbkx",
        "colab_type": "text"
      },
      "source": [
        "On the other hand, if we apply inverse_transform to return the data to its original dimension (only with the value of the 150 components) we can plot the image to see how similar it looks to the original. This time let's use matplotlib to compare to the original image."
      ]
    },
    {
      "cell_type": "code",
      "metadata": {
        "id": "A4j5RUUPTrle",
        "colab_type": "code",
        "colab": {}
      },
      "source": [
        "#let's transform the matrix to its original dimensions by first doing\n",
        "#an inverse transform of the output and then reshaping it to (1348,62,47)\n",
        "\n",
        "projected = pca.inverse_transform(output)"
      ],
      "execution_count": 0,
      "outputs": []
    },
    {
      "cell_type": "code",
      "metadata": {
        "id": "jh4Igd8fdbDb",
        "colab_type": "code",
        "outputId": "94febac9-fdeb-4518-fb19-9cdf13be603d",
        "colab": {
          "base_uri": "https://localhost:8080/",
          "height": 308
        }
      },
      "source": [
        "#Let's print the name of the class in the dataset and the reconstruction \n",
        "# of the pixels in a plot, given by its position in the dataset.\n",
        "#but now we will use the PCA inverse dataset (150 PCs)\n",
        "\n",
        "picture_number = 300 #remember there are 1348 images, any image can be observed \n",
        "                    #choosing a number between 0 and 1348 as well as the\n",
        "                      #corresponding name.\n",
        "\n",
        "print(\"The following image correspond to {}\".format(faces.target_names[\n",
        "    faces.target[picture_number]]))\n",
        "plt.imshow(projected[picture_number].reshape(62,47))\n",
        "\n",
        "# it is necessary to reshape to convert the image to its original seet (62,47)\n",
        "#instead of (2914)"
      ],
      "execution_count": 0,
      "outputs": [
        {
          "output_type": "stream",
          "text": [
            "The following image correspond to George W Bush\n"
          ],
          "name": "stdout"
        },
        {
          "output_type": "execute_result",
          "data": {
            "text/plain": [
              "<matplotlib.image.AxesImage at 0x7f3832a67668>"
            ]
          },
          "metadata": {
            "tags": []
          },
          "execution_count": 20
        },
        {
          "output_type": "display_data",
          "data": {
            "image/png": "[encoded data removed]",
            "text/plain": [
              "<Figure size 432x288 with 1 Axes>"
            ]
          },
          "metadata": {
            "tags": []
          }
        }
      ]
    },
    {
      "cell_type": "markdown",
      "metadata": {
        "id": "R6jHnDmUfX6e",
        "colab_type": "text"
      },
      "source": [
        "With only 150 components, the image is very similar to what we plotted before considering all the dimensions. \n",
        "\n",
        "<br> Additionally, if we extend this plotting to mor examples we can do a comparison between a full input and the reconstruction of the images with only 150 components. as follow:"
      ]
    },
    {
      "cell_type": "code",
      "metadata": {
        "id": "op04mgctW_a6",
        "colab_type": "code",
        "outputId": "4f6bec4a-ae9c-450a-e9af-69a57c0aaf8b",
        "colab": {
          "base_uri": "https://localhost:8080/",
          "height": 315
        }
      },
      "source": [
        "fig, ax = plt.subplots(2, 5, figsize=(10, 5),\n",
        "                       subplot_kw={'xticks':[], 'yticks':[]},\n",
        "                       gridspec_kw=dict(hspace=0.1, wspace=0.1))\n",
        "for i in range(5):\n",
        "    ax[0, i].imshow(faces.data[i].reshape(62, 47), cmap='binary_r')\n",
        "    ax[1, i].imshow(projected[i].reshape(62, 47), cmap='binary_r')\n",
        "    \n",
        "ax[0, 0].set_ylabel('full-dim\\ninput')\n",
        "ax[1, 0].set_ylabel('150-dim\\nreconstruction');"
      ],
      "execution_count": 0,
      "outputs": [
        {
          "output_type": "display_data",
          "data": {
            "image/png": "[encoded data removed]",
            "text/plain": [
              "<Figure size 720x360 with 10 Axes>"
            ]
          },
          "metadata": {
            "tags": []
          }
        }
      ]
    },
    {
      "cell_type": "markdown",
      "metadata": {
        "id": "NXQHJgXm-XJ9",
        "colab_type": "text"
      },
      "source": [
        "### Conclusion 1:\n",
        "\n",
        "<p align=\"justify\"> \n",
        "The authors are right by claiming that it is necessary to reduce the dimensionality of the images by using linear projection, to build a face recognition model. Disregarding what model we use, the approach of considering reduced dimensions will save computational cost but also will not marginally have an impact on the predictions. Making it more efficient and equally accurate. Later down, I will also demonstrate that achieving a good prediction is also not given by the complexity of the model, but instead about what methodologies we use for learning, and: <p> \n",
        " \n",
        "  **This will demonstrate why not in all cases Fisherfaces or LDA outperform PCA or Eigenfaces.**\n",
        "\n",
        "  "
      ]
    },
    {
      "cell_type": "markdown",
      "metadata": {
        "id": "E-XKvmFxipFw",
        "colab_type": "text"
      },
      "source": [
        "## VIII-III Predictive model using SVM\n",
        "\n",
        "<br> In this section we will build a classifier. This time we will perform a random sampling and partitioning of the data, different from the approach that the authors fallowed.\n",
        " <br> Let me build the model by partitioning in a training set and a testing set corresponding to 70/30 respectively."
      ]
    },
    {
      "cell_type": "code",
      "metadata": {
        "id": "wx7DiVZjf81E",
        "colab_type": "code",
        "colab": {}
      },
      "source": [
        "from sklearn.model_selection import train_test_split"
      ],
      "execution_count": 0,
      "outputs": []
    },
    {
      "cell_type": "code",
      "metadata": {
        "id": "xQUAf1DGi-T2",
        "colab_type": "code",
        "colab": {}
      },
      "source": [
        "from time import time\n",
        "import logging\n",
        "\n",
        "from sklearn.model_selection import GridSearchCV\n",
        "from sklearn.metrics import classification_report\n",
        "from sklearn.metrics import confusion_matrix\n",
        "from sklearn.svm import SVC"
      ],
      "execution_count": 0,
      "outputs": []
    },
    {
      "cell_type": "code",
      "metadata": {
        "id": "93GpyxkDeeI2",
        "colab_type": "code",
        "colab": {}
      },
      "source": [
        "n_samples, h, w = faces.images.shape\n",
        "\n",
        "\n",
        "X = faces.data\n",
        "y = faces.target\n",
        "\n",
        "\n",
        "#let's partition the data in 70/30 \n",
        "\n",
        "X_train, X_test, y_train, y_test = train_test_split(\n",
        "    X, y, test_size=0.3, random_state=4)\n"
      ],
      "execution_count": 0,
      "outputs": []
    },
    {
      "cell_type": "markdown",
      "metadata": {
        "id": "QYSd45mkuwCU",
        "colab_type": "text"
      },
      "source": [
        "After partitioning we are going to use the number of components 150 and compute the time it takes to extract the top eigenfaces, as well as projecting the input data on the eigenfaces orthonormal basis"
      ]
    },
    {
      "cell_type": "code",
      "metadata": {
        "id": "eKr1M_7IjGLC",
        "colab_type": "code",
        "outputId": "2bbbe52e-ec2d-4b59-d8a5-aa3f7a904d19",
        "colab": {
          "base_uri": "https://localhost:8080/",
          "height": 85
        }
      },
      "source": [
        "n_components = 150\n",
        "\n",
        "print(\"Extracting the top {} eigenfaces from {} faces\".format(\n",
        "    n_components, X_train.shape[0]))\n",
        "t0 = time()\n",
        "pca = PCA(n_components=n_components, svd_solver='randomized',\n",
        "          whiten=True).fit(X_train)\n",
        "print(\"done in {} s\".format(time() - t0))\n",
        "\n",
        "eigenfaces = pca.components_.reshape((n_components, h, w))\n",
        "\n",
        "print(\"Projecting the input data on the eigenfaces orthonormal basis\")\n",
        "t0 = time()\n",
        "X_train_pca = pca.transform(X_train)\n",
        "X_test_pca = pca.transform(X_test)\n",
        "print(\"done in {} s\".format(time() - t0))"
      ],
      "execution_count": 0,
      "outputs": [
        {
          "output_type": "stream",
          "text": [
            "Extracting the top 150 eigenfaces from 943 faces\n",
            "done in 0.3312644958496094 s\n",
            "Projecting the input data on the eigenfaces orthonormal basis\n",
            "done in 0.03776264190673828 s\n"
          ],
          "name": "stdout"
        }
      ]
    },
    {
      "cell_type": "markdown",
      "metadata": {
        "id": "vCi8AnWyyJW1",
        "colab_type": "text"
      },
      "source": [
        "Now we will train the SVM to classify the images in a dimensionally reduced image space.\n",
        "\n",
        "<p align=\"justify\"> The characteristics of this classifier are that first it will find the best parameters C and Gamma. C evaluates the trade of between a correct classification and smooth decision surface, while Gamma tells how much influence a single training sample has in the model.\n",
        "<br>After performing the calculation we will choose the parameters that best fit our model and will also print the time it takes to be trained with the training set:\n"
      ]
    },
    {
      "cell_type": "code",
      "metadata": {
        "id": "wyUjjZqMgEJC",
        "colab_type": "code",
        "outputId": "ba11e1a6-c799-42bd-9010-2dffc6c3eaf4",
        "colab": {
          "base_uri": "https://localhost:8080/",
          "height": 136
        }
      },
      "source": [
        "print(\"Fitting the classifier to the training set\")\n",
        "\n",
        "param_grid = {'C': [1e3, 5e3, 1e4, 5e4, 1e5],\n",
        "              'gamma': [0.0001, 0.0005, 0.001, 0.005, 0.01, 0.1], }\n",
        "clf = GridSearchCV(SVC(kernel='rbf', class_weight='balanced'),\n",
        "                   param_grid, cv=5, iid=False)\n",
        "clf = clf.fit(X_train_pca, y_train)\n",
        "print(\"done in {}s\".format(time() - t0))\n",
        "print(\"Best estimator found by grid search:\")\n",
        "print(clf.best_estimator_)"
      ],
      "execution_count": 0,
      "outputs": [
        {
          "output_type": "stream",
          "text": [
            "Fitting the classifier to the training set\n",
            "done in 47.04301929473877s\n",
            "Best estimator found by grid search:\n",
            "SVC(C=1000.0, cache_size=200, class_weight='balanced', coef0=0.0,\n",
            "    decision_function_shape='ovr', degree=3, gamma=0.0005, kernel='rbf',\n",
            "    max_iter=-1, probability=False, random_state=None, shrinking=True,\n",
            "    tol=0.001, verbose=False)\n"
          ],
          "name": "stdout"
        }
      ]
    },
    {
      "cell_type": "markdown",
      "metadata": {
        "id": "_zuzzeBqzpbB",
        "colab_type": "text"
      },
      "source": [
        "After training, we perform the evaluation of the model with the testing set, and calculate the time it takes to test.\n",
        "<br> Additionally, we will use the confusion matrix and the metrics Precision, Recall and F1-Score as indicators of how good our model is, with the aim to complement and contrast this metrics with the only metric used by the author that was the error rate."
      ]
    },
    {
      "cell_type": "code",
      "metadata": {
        "id": "vNYXna33kn9M",
        "colab_type": "code",
        "outputId": "8e481140-33de-4a96-bc49-bc52e65486f8",
        "colab": {
          "base_uri": "https://localhost:8080/",
          "height": 442
        }
      },
      "source": [
        "# #############################################################################\n",
        "# Quantitative evaluation of the model quality on the test set\n",
        "\n",
        "print(\"Predicting people's names on the test set\")\n",
        "t0 = time()\n",
        "y_pred = clf.predict(X_test_pca)\n",
        "print(\"done in {}s\".format(time() - t0))\n",
        "\n",
        "print(classification_report(y_test, y_pred, target_names=target_names))\n",
        "print(confusion_matrix(y_test, y_pred, labels=range(n_classes)))"
      ],
      "execution_count": 0,
      "outputs": [
        {
          "output_type": "stream",
          "text": [
            "Predicting people's names on the test set\n",
            "done in 0.08778238296508789s\n",
            "                   precision    recall  f1-score   support\n",
            "\n",
            "     Ariel Sharon       0.90      0.72      0.80        25\n",
            "     Colin Powell       0.73      0.84      0.78        82\n",
            "  Donald Rumsfeld       0.74      0.72      0.73        36\n",
            "    George W Bush       0.90      0.88      0.89       155\n",
            "Gerhard Schroeder       0.75      0.75      0.75        28\n",
            "      Hugo Chavez       0.94      0.71      0.81        21\n",
            "Junichiro Koizumi       1.00      0.88      0.94        17\n",
            "       Tony Blair       0.70      0.73      0.71        41\n",
            "\n",
            "         accuracy                           0.82       405\n",
            "        macro avg       0.83      0.78      0.80       405\n",
            "     weighted avg       0.82      0.82      0.82       405\n",
            "\n",
            "[[ 18   3   2   1   0   0   0   1]\n",
            " [  2  69   2   7   0   0   0   2]\n",
            " [  0   4  26   4   0   0   0   2]\n",
            " [  0  11   3 137   3   0   0   1]\n",
            " [  0   1   0   1  21   1   0   4]\n",
            " [  0   3   0   0   1  15   0   2]\n",
            " [  0   0   1   0   0   0  15   1]\n",
            " [  0   4   1   3   3   0   0  30]]\n"
          ],
          "name": "stdout"
        }
      ]
    },
    {
      "cell_type": "code",
      "metadata": {
        "id": "BkPXHs3PuL9u",
        "colab_type": "code",
        "outputId": "e2de8d7f-6d30-493d-86b7-e03c52c4621e",
        "colab": {
          "base_uri": "https://localhost:8080/",
          "height": 34
        }
      },
      "source": [
        "# let's calculate the accuracy by using f1-score\n",
        "\n",
        "clf.score(X_test_pca, y_test)"
      ],
      "execution_count": 0,
      "outputs": [
        {
          "output_type": "execute_result",
          "data": {
            "text/plain": [
              "0.817283950617284"
            ]
          },
          "metadata": {
            "tags": []
          },
          "execution_count": 28
        }
      ]
    },
    {
      "cell_type": "markdown",
      "metadata": {
        "id": "Da2m4XlU86PT",
        "colab_type": "text"
      },
      "source": [
        "The model perform very well, given the value of the f1 score. Now we are going to check if the model overfits the data as a complement evaluation to the authors' thesis.\n"
      ]
    },
    {
      "cell_type": "code",
      "metadata": {
        "id": "E5n6UGZa8_l2",
        "colab_type": "code",
        "outputId": "d8a456f0-1b96-4578-ed0e-c919610137f0",
        "colab": {
          "base_uri": "https://localhost:8080/",
          "height": 34
        }
      },
      "source": [
        "clf.score(X_train_pca, y_train)"
      ],
      "execution_count": 0,
      "outputs": [
        {
          "output_type": "execute_result",
          "data": {
            "text/plain": [
              "1.0"
            ]
          },
          "metadata": {
            "tags": []
          },
          "execution_count": 29
        }
      ]
    },
    {
      "cell_type": "markdown",
      "metadata": {
        "id": "la-mwmCE_qps",
        "colab_type": "text"
      },
      "source": [
        "<p align=\"justify\"> Given that the accuracy is 100% with the training sample. Meaning that the model explains perfectly the data with what it was trained. With new unobserved data, the model does not perform as great. This consideration was not done by the authors in their thesis, and will be considered here as a complement to the discussion.\n",
        "  \n",
        "<br><p align=\"justify\"> Following, we are going to plot the evaluations with matplotlib. To do this we will define a function that plots the comparison between the predicted class (name of the person) and the actual class.\n",
        "\n"
      ]
    },
    {
      "cell_type": "code",
      "metadata": {
        "id": "06pNiFgTlKWY",
        "colab_type": "code",
        "outputId": "6996775b-dbfa-41e8-d8f4-2a320d78ae6b",
        "colab": {
          "base_uri": "https://localhost:8080/",
          "height": 534
        }
      },
      "source": [
        "\n",
        "# #############################################################################\n",
        "# Qualitative evaluation of the predictions using matplotlib\n",
        "\n",
        "def plot_gallery(images, titles, h, w, n_row=3, n_col=4):\n",
        "    \"\"\"Helper function to plot a gallery of portraits\"\"\"\n",
        "    plt.figure(figsize=(1.8 * n_col, 2.4 * n_row))\n",
        "    plt.subplots_adjust(bottom=0, left=.01, right=.99, top=.90, hspace=.35)\n",
        "    for i in range(n_row * n_col):\n",
        "        plt.subplot(n_row, n_col, i + 1)\n",
        "        plt.imshow(images[i].reshape((h, w)), cmap=plt.cm.gray)\n",
        "        plt.title(titles[i], size=12)\n",
        "        plt.xticks(())\n",
        "        plt.yticks(())\n",
        "\n",
        "        \n",
        "# plot the result of the prediction on a portion of the test set\n",
        "\n",
        "def title(y_pred, y_test, target_names, i):\n",
        "    pred_name = target_names[y_pred[i]].rsplit(' ', 1)[-1]\n",
        "    true_name = target_names[y_test[i]].rsplit(' ', 1)[-1]\n",
        "    return 'predicted: {}\\ntrue:      {}'.format(pred_name, true_name)\n",
        "\n",
        "prediction_titles = [title(y_pred, y_test, target_names, i)\n",
        "                     for i in range(y_pred.shape[0])]\n",
        "\n",
        "plot_gallery(X_test, prediction_titles, h, w)"
      ],
      "execution_count": 0,
      "outputs": [
        {
          "output_type": "display_data",
          "data": {
            "image/png": "[encoded data removed]",
            "text/plain": [
              "<Figure size 518.4x518.4 with 12 Axes>"
            ]
          },
          "metadata": {
            "tags": []
          }
        }
      ]
    },
    {
      "cell_type": "markdown",
      "metadata": {
        "id": "xr9ksbCrEqUp",
        "colab_type": "text"
      },
      "source": [
        "## VIII-IV Normalizing data to evaluate the efect of it in the performance of the algorithm\n",
        "\n",
        "<br> <p align=\"justify\">This evaluation is performed because the authors claimed that by normalizing the data, having it with a mean of 0 and varianze 1, the performance of the algorithm improves.\n"
      ]
    },
    {
      "cell_type": "code",
      "metadata": {
        "id": "vAzIXJb5meri",
        "colab_type": "code",
        "outputId": "abc4154b-794f-4224-a811-83420ce910c1",
        "colab": {
          "base_uri": "https://localhost:8080/",
          "height": 238
        }
      },
      "source": [
        "# lets normilize the data\n",
        "\n",
        "faces.data"
      ],
      "execution_count": 0,
      "outputs": [
        {
          "output_type": "execute_result",
          "data": {
            "text/plain": [
              "array([[138.        , 135.66667   , 127.666664  , ...,   1.6666666 ,\n",
              "          1.6666666 ,   0.33333334],\n",
              "       [ 71.333336  ,  56.        ,  67.666664  , ..., 247.66667   ,\n",
              "        243.        , 238.33333   ],\n",
              "       [ 84.333336  ,  97.333336  ,  72.333336  , ..., 114.        ,\n",
              "        194.33333   , 241.        ],\n",
              "       ...,\n",
              "       [ 29.333334  ,  29.        ,  29.333334  , ..., 145.        ,\n",
              "        147.        , 141.66667   ],\n",
              "       [ 49.333332  ,  55.666668  ,  76.666664  , ..., 186.33333   ,\n",
              "        176.33333   , 161.        ],\n",
              "       [ 31.        ,  26.333334  ,  28.        , ...,  34.        ,\n",
              "         42.        ,  69.666664  ]], dtype=float32)"
            ]
          },
          "metadata": {
            "tags": []
          },
          "execution_count": 31
        }
      ]
    },
    {
      "cell_type": "code",
      "metadata": {
        "id": "CxUlLXoG7V4o",
        "colab_type": "code",
        "outputId": "8eb8688c-87ac-4924-c5d3-85f1d57fe5cb",
        "colab": {
          "base_uri": "https://localhost:8080/",
          "height": 105
        }
      },
      "source": [
        "from sklearn.preprocessing import normalize\n",
        "from sklearn import preprocessing\n",
        "\n",
        "\n",
        "Normalized_data = preprocessing.scale(faces.data)"
      ],
      "execution_count": 0,
      "outputs": [
        {
          "output_type": "stream",
          "text": [
            "/usr/local/lib/python3.6/dist-packages/sklearn/preprocessing/data.py:172: UserWarning: Numerical issues were encountered when centering the data and might not be solved. Dataset may contain too large values. You may need to prescale your features.\n",
            "  warnings.warn(\"Numerical issues were encountered \"\n",
            "/usr/local/lib/python3.6/dist-packages/sklearn/preprocessing/data.py:189: UserWarning: Numerical issues were encountered when scaling the data and might not be solved. The standard deviation of the data is probably very close to 0. \n",
            "  warnings.warn(\"Numerical issues were encountered \"\n"
          ],
          "name": "stderr"
        }
      ]
    },
    {
      "cell_type": "code",
      "metadata": {
        "id": "x6pSUTlmDW4P",
        "colab_type": "code",
        "outputId": "5e519d87-08f3-406a-cd46-789d9c2383cc",
        "colab": {
          "base_uri": "https://localhost:8080/",
          "height": 51
        }
      },
      "source": [
        "print(\"The mean is {}\".format(round(Normalized_data.mean())))\n",
        "print(\"The new Variance is {}\".format(round(Normalized_data.var())))"
      ],
      "execution_count": 0,
      "outputs": [
        {
          "output_type": "stream",
          "text": [
            "The mean is -0.0\n",
            "The new Variance is 1.0\n"
          ],
          "name": "stdout"
        }
      ]
    },
    {
      "cell_type": "code",
      "metadata": {
        "id": "zy_wC-Km7n-1",
        "colab_type": "code",
        "outputId": "4ae2988f-237e-42f6-f72e-e70e622e2474",
        "colab": {
          "base_uri": "https://localhost:8080/",
          "height": 238
        }
      },
      "source": [
        "Normalized_data\n"
      ],
      "execution_count": 0,
      "outputs": [
        {
          "output_type": "execute_result",
          "data": {
            "text/plain": [
              "array([[ 1.0050247 ,  0.91436267,  0.6292838 , ..., -1.4910047 ,\n",
              "        -1.4065766 , -1.3338116 ],\n",
              "       [-0.4193132 , -0.8269849 , -0.7149908 , ...,  1.6567618 ,\n",
              "         1.6757919 ,  1.6750888 ],\n",
              "       [-0.14156732,  0.07647576, -0.61043596, ..., -0.05361011,\n",
              "         1.054209  ,  1.7088019 ],\n",
              "       ...,\n",
              "       [-1.316646  , -1.4171487 , -1.5738328 , ...,  0.34305963,\n",
              "         0.4496563 ,  0.45298636],\n",
              "       [-0.8893448 , -0.83427083, -0.5133496 , ...,  0.87195253,\n",
              "         0.82430863,  0.69740677],\n",
              "       [-1.2810377 , -1.4754364 , -1.6037055 , ..., -1.0772738 ,\n",
              "        -0.8914294 , -0.4572693 ]], dtype=float32)"
            ]
          },
          "metadata": {
            "tags": []
          },
          "execution_count": 34
        }
      ]
    },
    {
      "cell_type": "code",
      "metadata": {
        "id": "9V0IQgbt7tDc",
        "colab_type": "code",
        "colab": {}
      },
      "source": [
        "X = Normalized_data\n",
        "n_features = X.shape[1]\n",
        "\n",
        "y = faces.target\n",
        "target_names = faces.target_names\n",
        "n_classes = target_names.shape[0]\n",
        "\n",
        "X_train, X_test, y_train, y_test = train_test_split(\n",
        "    X, y, test_size=0.30, random_state=4)\n"
      ],
      "execution_count": 0,
      "outputs": []
    },
    {
      "cell_type": "code",
      "metadata": {
        "id": "MdqnRDn88Fit",
        "colab_type": "code",
        "outputId": "1d7e2ab1-65e7-4ffb-f144-626c41a65b19",
        "colab": {
          "base_uri": "https://localhost:8080/",
          "height": 85
        }
      },
      "source": [
        "n_components = 150\n",
        "\n",
        "print(\"Extracting the top {} eigenfaces from {} faces\".format(\n",
        "    n_components, X_train.shape[0]))\n",
        "t0 = time()\n",
        "pca = PCA(n_components=n_components, svd_solver='randomized',\n",
        "          whiten=True).fit(X_train)\n",
        "print(\"done in %0.3fs\" % (time() - t0))\n",
        "\n",
        "eigenfaces = pca.components_.reshape((n_components, h, w))\n",
        "\n",
        "print(\"Projecting the input data on the eigenfaces orthonormal basis\")\n",
        "t0 = time()\n",
        "X_train_pca = pca.transform(X_train)\n",
        "X_test_pca = pca.transform(X_test)\n",
        "print(\"done in %0.3fs\" % (time() - t0))"
      ],
      "execution_count": 0,
      "outputs": [
        {
          "output_type": "stream",
          "text": [
            "Extracting the top 150 eigenfaces from 943 faces\n",
            "done in 0.296s\n",
            "Projecting the input data on the eigenfaces orthonormal basis\n",
            "done in 0.038s\n"
          ],
          "name": "stdout"
        }
      ]
    },
    {
      "cell_type": "code",
      "metadata": {
        "id": "bm74kaCG8M1s",
        "colab_type": "code",
        "outputId": "dfdc46c1-7a4c-44de-cf0f-4fa17fc11629",
        "colab": {
          "base_uri": "https://localhost:8080/",
          "height": 136
        }
      },
      "source": [
        "print(\"Fitting the classifier to the training set\")\n",
        "\n",
        "param_grid = {'C': [1e3, 5e3, 1e4, 5e4, 1e5],\n",
        "              'gamma': [0.0001, 0.0005, 0.001, 0.005, 0.01, 0.1], }\n",
        "clf = GridSearchCV(SVC(kernel='rbf', class_weight='balanced'),\n",
        "                   param_grid, cv=5, iid=False)\n",
        "clf = clf.fit(X_train_pca, y_train)\n",
        "print(\"done in %0.3fs\" % (time() - t0))\n",
        "print(\"Best estimator found by grid search:\")\n",
        "print(clf.best_estimator_)"
      ],
      "execution_count": 0,
      "outputs": [
        {
          "output_type": "stream",
          "text": [
            "Fitting the classifier to the training set\n",
            "done in 46.552s\n",
            "Best estimator found by grid search:\n",
            "SVC(C=1000.0, cache_size=200, class_weight='balanced', coef0=0.0,\n",
            "    decision_function_shape='ovr', degree=3, gamma=0.001, kernel='rbf',\n",
            "    max_iter=-1, probability=False, random_state=None, shrinking=True,\n",
            "    tol=0.001, verbose=False)\n"
          ],
          "name": "stdout"
        }
      ]
    },
    {
      "cell_type": "code",
      "metadata": {
        "id": "RtXHH0sj8Skr",
        "colab_type": "code",
        "outputId": "6c2948f1-df03-4e54-dd34-d07174b7a4b5",
        "colab": {
          "base_uri": "https://localhost:8080/",
          "height": 442
        }
      },
      "source": [
        "# #############################################################################\n",
        "# Quantitative evaluation of the model quality on the test set\n",
        "\n",
        "print(\"Predicting people's names on the test set\")\n",
        "t0 = time()\n",
        "y_pred = clf.predict(X_test_pca)\n",
        "print(\"done in %0.3fs\" % (time() - t0))\n",
        "\n",
        "print(classification_report(y_test, y_pred, target_names=target_names))\n",
        "print(confusion_matrix(y_test, y_pred, labels=range(n_classes)))"
      ],
      "execution_count": 0,
      "outputs": [
        {
          "output_type": "stream",
          "text": [
            "Predicting people's names on the test set\n",
            "done in 0.089s\n",
            "                   precision    recall  f1-score   support\n",
            "\n",
            "     Ariel Sharon       0.80      0.64      0.71        25\n",
            "     Colin Powell       0.74      0.88      0.80        82\n",
            "  Donald Rumsfeld       0.74      0.78      0.76        36\n",
            "    George W Bush       0.92      0.91      0.91       155\n",
            "Gerhard Schroeder       0.81      0.75      0.78        28\n",
            "      Hugo Chavez       1.00      0.57      0.73        21\n",
            "Junichiro Koizumi       1.00      0.82      0.90        17\n",
            "       Tony Blair       0.77      0.83      0.80        41\n",
            "\n",
            "         accuracy                           0.83       405\n",
            "        macro avg       0.85      0.77      0.80       405\n",
            "     weighted avg       0.84      0.83      0.83       405\n",
            "\n",
            "[[ 16   4   2   1   0   0   0   2]\n",
            " [  3  72   2   2   0   0   0   3]\n",
            " [  1   4  28   3   0   0   0   0]\n",
            " [  0   9   3 141   2   0   0   0]\n",
            " [  0   1   2   2  21   0   0   2]\n",
            " [  0   5   0   1   1  12   0   2]\n",
            " [  0   0   1   1   0   0  14   1]\n",
            " [  0   2   0   3   2   0   0  34]]\n"
          ],
          "name": "stdout"
        }
      ]
    },
    {
      "cell_type": "code",
      "metadata": {
        "id": "q_nvgHhnM-sI",
        "colab_type": "code",
        "outputId": "89893a3d-96b4-4f43-8bc4-472df3e4724c",
        "colab": {
          "base_uri": "https://localhost:8080/",
          "height": 34
        }
      },
      "source": [
        "clf.score(X_test_pca, y_test)"
      ],
      "execution_count": 0,
      "outputs": [
        {
          "output_type": "execute_result",
          "data": {
            "text/plain": [
              "0.8345679012345679"
            ]
          },
          "metadata": {
            "tags": []
          },
          "execution_count": 39
        }
      ]
    },
    {
      "cell_type": "code",
      "metadata": {
        "id": "BeqViRNfM-OY",
        "colab_type": "code",
        "outputId": "5c787c67-dbf1-43c0-926c-d3644d824c61",
        "colab": {
          "base_uri": "https://localhost:8080/",
          "height": 34
        }
      },
      "source": [
        "clf.score(X_train_pca, y_train)"
      ],
      "execution_count": 0,
      "outputs": [
        {
          "output_type": "execute_result",
          "data": {
            "text/plain": [
              "1.0"
            ]
          },
          "metadata": {
            "tags": []
          },
          "execution_count": 40
        }
      ]
    },
    {
      "cell_type": "markdown",
      "metadata": {
        "id": "4Mnp4zeSNLZ8",
        "colab_type": "text"
      },
      "source": [
        "### Conclusion 2:\n",
        "\n",
        "<p align=\"justify\">By normalizing the data to have zero mean and unique varianze, the authors are right when claiming that it improves the performance of the algorithm. This was an acertive strategy for their Job."
      ]
    },
    {
      "cell_type": "markdown",
      "metadata": {
        "id": "ywtjaLCjCPJc",
        "colab_type": "text"
      },
      "source": [
        "## VIII-V Predictive model using 50 components and SVM\n",
        "\n",
        "<br> In this section I will repeat the same modeling but this time using 50 components."
      ]
    },
    {
      "cell_type": "code",
      "metadata": {
        "id": "NojeQGXPal9e",
        "colab_type": "code",
        "outputId": "ccb9ee25-7e0e-42ad-a077-ed1a946df440",
        "colab": {
          "base_uri": "https://localhost:8080/",
          "height": 85
        }
      },
      "source": [
        "# now lets repeat the process only with 100 principal components\n",
        "X = Normalized_data\n",
        "n_features = X.shape[1]\n",
        "\n",
        "y = faces.target\n",
        "target_names = faces.target_names\n",
        "n_classes = target_names.shape[0]\n",
        "\n",
        "\n",
        "X_train, X_test, y_train, y_test = train_test_split(\n",
        "    X, y, test_size=0.30, random_state=4)\n",
        "\n",
        "n_components = 50\n",
        "\n",
        "print(\"Extracting the top {} eigenfaces from {} faces\".format(\n",
        "    n_components, X_train.shape[0]))\n",
        "t0 = time()\n",
        "pca = PCA(n_components=n_components, svd_solver='randomized',\n",
        "          whiten=True).fit(X_train)\n",
        "print(\"done in %0.3fs\" % (time() - t0))\n",
        "\n",
        "eigenfaces = pca.components_.reshape((n_components, h, w))\n",
        "\n",
        "print(\"Projecting the input data on the eigenfaces orthonormal basis\")\n",
        "t0 = time()\n",
        "X_train_pca = pca.transform(X_train)\n",
        "X_test_pca = pca.transform(X_test)\n",
        "print(\"done in %0.3fs\" % (time() - t0))"
      ],
      "execution_count": 0,
      "outputs": [
        {
          "output_type": "stream",
          "text": [
            "Extracting the top 50 eigenfaces from 943 faces\n",
            "done in 0.187s\n",
            "Projecting the input data on the eigenfaces orthonormal basis\n",
            "done in 0.026s\n"
          ],
          "name": "stdout"
        }
      ]
    },
    {
      "cell_type": "code",
      "metadata": {
        "id": "cLMifcmElsoN",
        "colab_type": "code",
        "outputId": "4101f314-3aa3-4c50-d858-1954aca61f4c",
        "colab": {
          "base_uri": "https://localhost:8080/",
          "height": 136
        }
      },
      "source": [
        "print(\"Fitting the classifier to the training set\")\n",
        "\n",
        "param_grid = {'C': [1e3, 5e3, 1e4, 5e4, 1e5],\n",
        "              'gamma': [0.0001, 0.0005, 0.001, 0.005, 0.01, 0.1], }\n",
        "clf = GridSearchCV(SVC(kernel='rbf', class_weight='balanced'),\n",
        "                   param_grid, cv=5, iid=False)\n",
        "clf = clf.fit(X_train_pca, y_train)\n",
        "print(\"done in %0.3fs\" % (time() - t0))\n",
        "print(\"Best estimator found by grid search:\")\n",
        "print(clf.best_estimator_)\n"
      ],
      "execution_count": 0,
      "outputs": [
        {
          "output_type": "stream",
          "text": [
            "Fitting the classifier to the training set\n",
            "done in 14.980s\n",
            "Best estimator found by grid search:\n",
            "SVC(C=1000.0, cache_size=200, class_weight='balanced', coef0=0.0,\n",
            "    decision_function_shape='ovr', degree=3, gamma=0.01, kernel='rbf',\n",
            "    max_iter=-1, probability=False, random_state=None, shrinking=True,\n",
            "    tol=0.001, verbose=False)\n"
          ],
          "name": "stdout"
        }
      ]
    },
    {
      "cell_type": "code",
      "metadata": {
        "id": "o8r66_fxlziO",
        "colab_type": "code",
        "outputId": "75cd92e4-571a-4e4a-c09a-765614988d74",
        "colab": {
          "base_uri": "https://localhost:8080/",
          "height": 442
        }
      },
      "source": [
        "# #############################################################################\n",
        "# Quantitative evaluation of the model quality on the test set\n",
        "\n",
        "print(\"Predicting people's names on the test set\")\n",
        "t0 = time()\n",
        "y_pred = clf.predict(X_test_pca)\n",
        "print(\"done in %0.3fs\" % (time() - t0))\n",
        "\n",
        "print(classification_report(y_test, y_pred, target_names=target_names))\n",
        "print(confusion_matrix(y_test, y_pred, labels=range(n_classes)))"
      ],
      "execution_count": 0,
      "outputs": [
        {
          "output_type": "stream",
          "text": [
            "Predicting people's names on the test set\n",
            "done in 0.036s\n",
            "                   precision    recall  f1-score   support\n",
            "\n",
            "     Ariel Sharon       0.81      0.68      0.74        25\n",
            "     Colin Powell       0.88      0.89      0.88        82\n",
            "  Donald Rumsfeld       0.76      0.72      0.74        36\n",
            "    George W Bush       0.91      0.95      0.93       155\n",
            "Gerhard Schroeder       0.80      0.86      0.83        28\n",
            "      Hugo Chavez       1.00      0.76      0.86        21\n",
            "Junichiro Koizumi       0.94      0.88      0.91        17\n",
            "       Tony Blair       0.82      0.88      0.85        41\n",
            "\n",
            "         accuracy                           0.87       405\n",
            "        macro avg       0.87      0.83      0.84       405\n",
            "     weighted avg       0.87      0.87      0.87       405\n",
            "\n",
            "[[ 17   3   2   1   1   0   0   1]\n",
            " [  2  73   3   3   0   0   0   1]\n",
            " [  1   2  26   5   1   0   0   1]\n",
            " [  1   3   2 147   0   0   0   2]\n",
            " [  0   0   1   2  24   0   0   1]\n",
            " [  0   1   0   0   2  16   1   1]\n",
            " [  0   0   0   1   0   0  15   1]\n",
            " [  0   1   0   2   2   0   0  36]]\n"
          ],
          "name": "stdout"
        }
      ]
    },
    {
      "cell_type": "code",
      "metadata": {
        "id": "2tgBs1QdJKS7",
        "colab_type": "code",
        "outputId": "70fc9c62-f456-4326-c696-d53de267f29f",
        "colab": {
          "base_uri": "https://localhost:8080/",
          "height": 34
        }
      },
      "source": [
        "clf.score(X_train_pca, y_train)"
      ],
      "execution_count": 0,
      "outputs": [
        {
          "output_type": "execute_result",
          "data": {
            "text/plain": [
              "1.0"
            ]
          },
          "metadata": {
            "tags": []
          },
          "execution_count": 44
        }
      ]
    },
    {
      "cell_type": "code",
      "metadata": {
        "id": "eQTv9u6oCuzr",
        "colab_type": "code",
        "outputId": "b5cededa-6388-476f-aae4-656a88607914",
        "colab": {
          "base_uri": "https://localhost:8080/",
          "height": 34
        }
      },
      "source": [
        "clf.score(X_test_pca, y_test)"
      ],
      "execution_count": 0,
      "outputs": [
        {
          "output_type": "execute_result",
          "data": {
            "text/plain": [
              "0.8740740740740741"
            ]
          },
          "metadata": {
            "tags": []
          },
          "execution_count": 45
        }
      ]
    },
    {
      "cell_type": "markdown",
      "metadata": {
        "id": "vJuLoMQk91_A",
        "colab_type": "text"
      },
      "source": [
        "By normalizing the data and reducing the number of eigenfaces or dimensions, we found a better performance of the algorithm."
      ]
    },
    {
      "cell_type": "markdown",
      "metadata": {
        "id": "rm72Yg5p-GXw",
        "colab_type": "text"
      },
      "source": [
        "## VIII-VI Using Bagging as the machine learning algorithm learned in class\n",
        "\n",
        "<br> <p align=\"justify\">The following section was developed in order to prove many points.\n",
        "  <br><p align=\"justify\"> Firt, I am using bagging in order to reduce the variance of the model, this is done because the model was previously overfitting. By doing this we do sampling of the training set by 70% of the data twenty times. (This can also be a very good example to the theory we saw in the first class, that by increasing the number of samples, we reduce the chances of finding samples that perfectly explain the data, but that by having this the model will not perform so well with unseen data).\n",
        "    <br><p align=\"justify\"> Second, to bring the theory from class that "
      ]
    },
    {
      "cell_type": "code",
      "metadata": {
        "id": "y_WG3TDT-TM0",
        "colab_type": "code",
        "colab": {}
      },
      "source": [
        "from sklearn. ensemble import  BaggingClassifier, AdaBoostClassifier, RandomForestClassifier\n",
        "from sklearn.tree import DecisionTreeClassifier"
      ],
      "execution_count": 0,
      "outputs": []
    },
    {
      "cell_type": "code",
      "metadata": {
        "id": "6cuoSxEkFoij",
        "colab_type": "code",
        "outputId": "a8fab49b-f1fb-4743-97b5-1b20bb7233c6",
        "colab": {
          "base_uri": "https://localhost:8080/",
          "height": 595
        }
      },
      "source": [
        "bg = BaggingClassifier(GridSearchCV(SVC(kernel='rbf', class_weight='balanced'),\n",
        "                   param_grid, cv=5, iid=False), max_samples= 0.7, max_features = 1.0, n_estimators = 20)\n",
        "bg.fit(X_train_pca, y_train)"
      ],
      "execution_count": 0,
      "outputs": [
        {
          "output_type": "execute_result",
          "data": {
            "text/plain": [
              "BaggingClassifier(base_estimator=GridSearchCV(cv=5,\n",
              "                                              error_score='raise-deprecating',\n",
              "                                              estimator=SVC(C=1.0,\n",
              "                                                            cache_size=200,\n",
              "                                                            class_weight='balanced',\n",
              "                                                            coef0=0.0,\n",
              "                                                            decision_function_shape='ovr',\n",
              "                                                            degree=3,\n",
              "                                                            gamma='auto_deprecated',\n",
              "                                                            kernel='rbf',\n",
              "                                                            max_iter=-1,\n",
              "                                                            probability=False,\n",
              "                                                            random_state=None,\n",
              "                                                            shrinking=True,\n",
              "                                                            tol=0.001,\n",
              "                                                            verbose=False),\n",
              "                                              iid=False, n_jobs=None,\n",
              "                                              param_grid={'C': [1000.0, 5000.0,\n",
              "                                                                10000.0,\n",
              "                                                                50000.0,\n",
              "                                                                100000.0],\n",
              "                                                          'gamma': [0.0001,\n",
              "                                                                    0.0005,\n",
              "                                                                    0.001,\n",
              "                                                                    0.005, 0.01,\n",
              "                                                                    0.1]},\n",
              "                                              pre_dispatch='2*n_jobs',\n",
              "                                              refit=True,\n",
              "                                              return_train_score=False,\n",
              "                                              scoring=None, verbose=0),\n",
              "                  bootstrap=True, bootstrap_features=False, max_features=1.0,\n",
              "                  max_samples=0.7, n_estimators=20, n_jobs=None,\n",
              "                  oob_score=False, random_state=None, verbose=0,\n",
              "                  warm_start=False)"
            ]
          },
          "metadata": {
            "tags": []
          },
          "execution_count": 47
        }
      ]
    },
    {
      "cell_type": "code",
      "metadata": {
        "id": "a2Iy_z2FFvV4",
        "colab_type": "code",
        "outputId": "9e53f320-f7c1-4eee-fbf3-4d10d1b61276",
        "colab": {
          "base_uri": "https://localhost:8080/",
          "height": 442
        }
      },
      "source": [
        "# #############################################################################\n",
        "# Quantitative evaluation of the model quality on the test set\n",
        "\n",
        "print(\"Predicting people's names on the test set\")\n",
        "t0 = time()\n",
        "y_pred = bg.predict(X_test_pca)\n",
        "print(\"done in %0.3fs\" % (time() - t0))\n",
        "\n",
        "print(classification_report(y_test, y_pred, target_names=target_names))\n",
        "print(confusion_matrix(y_test, y_pred, labels=range(n_classes)))"
      ],
      "execution_count": 0,
      "outputs": [
        {
          "output_type": "stream",
          "text": [
            "Predicting people's names on the test set\n",
            "done in 0.440s\n",
            "                   precision    recall  f1-score   support\n",
            "\n",
            "     Ariel Sharon       0.84      0.64      0.73        25\n",
            "     Colin Powell       0.85      0.94      0.89        82\n",
            "  Donald Rumsfeld       0.79      0.75      0.77        36\n",
            "    George W Bush       0.91      0.96      0.93       155\n",
            "Gerhard Schroeder       0.88      0.75      0.81        28\n",
            "      Hugo Chavez       1.00      0.76      0.86        21\n",
            "Junichiro Koizumi       1.00      0.82      0.90        17\n",
            "       Tony Blair       0.86      0.90      0.88        41\n",
            "\n",
            "         accuracy                           0.88       405\n",
            "        macro avg       0.89      0.82      0.85       405\n",
            "     weighted avg       0.88      0.88      0.88       405\n",
            "\n",
            "[[ 16   4   2   1   1   0   0   1]\n",
            " [  2  77   1   2   0   0   0   0]\n",
            " [  0   4  27   5   0   0   0   0]\n",
            " [  1   2   2 149   0   0   0   1]\n",
            " [  0   0   2   4  21   0   0   1]\n",
            " [  0   2   0   0   1  16   0   2]\n",
            " [  0   1   0   1   0   0  14   1]\n",
            " [  0   1   0   2   1   0   0  37]]\n"
          ],
          "name": "stdout"
        }
      ]
    },
    {
      "cell_type": "code",
      "metadata": {
        "id": "hlL2hPusWCUD",
        "colab_type": "code",
        "outputId": "2932a94d-323d-4a7a-987c-41e7f4a33c55",
        "colab": {
          "base_uri": "https://localhost:8080/",
          "height": 34
        }
      },
      "source": [
        "bg.score(X_test_pca, y_test)"
      ],
      "execution_count": 0,
      "outputs": [
        {
          "output_type": "execute_result",
          "data": {
            "text/plain": [
              "0.8814814814814815"
            ]
          },
          "metadata": {
            "tags": []
          },
          "execution_count": 49
        }
      ]
    },
    {
      "cell_type": "code",
      "metadata": {
        "id": "iOkbyXYaJEPD",
        "colab_type": "code",
        "outputId": "947068e9-942f-4521-dce5-97345d1b3fc5",
        "colab": {
          "base_uri": "https://localhost:8080/",
          "height": 34
        }
      },
      "source": [
        "bg.score(X_train_pca, y_train)"
      ],
      "execution_count": 0,
      "outputs": [
        {
          "output_type": "execute_result",
          "data": {
            "text/plain": [
              "0.9798515376458112"
            ]
          },
          "metadata": {
            "tags": []
          },
          "execution_count": 50
        }
      ]
    },
    {
      "cell_type": "markdown",
      "metadata": {
        "id": "EB_TFC4CQKso",
        "colab_type": "text"
      },
      "source": [
        "### Conclusion 3:\n",
        "\n",
        "<br><p align=\"justify\">By normalizing the data, as the authors claimed, we found better performance and by reducing the number of dimensions as well as applying a bagging methodology for sampling, we were able to reduce the overfitting and achieve a better performance on the Eigenfaces and PCA methods. "
      ]
    },
    {
      "cell_type": "markdown",
      "metadata": {
        "id": "--yZgLBNSPsO",
        "colab_type": "text"
      },
      "source": [
        "## VIII-VII Fisherfaces"
      ]
    },
    {
      "cell_type": "code",
      "metadata": {
        "id": "TVrhdN_JU9A_",
        "colab_type": "code",
        "colab": {}
      },
      "source": [
        "from sklearn.discriminant_analysis import LinearDiscriminantAnalysis as LDA\n",
        "from sklearn.neighbors import KNeighborsClassifier as KNC"
      ],
      "execution_count": 0,
      "outputs": []
    },
    {
      "cell_type": "code",
      "metadata": {
        "id": "kpjVlJQxSLwJ",
        "colab_type": "code",
        "colab": {}
      },
      "source": [
        "n_samples, h, w = faces.images.shape\n",
        "\n",
        "\n",
        "X = faces.data\n",
        "y = faces.target\n",
        "\n",
        "\n",
        "#let's partition the data in 70/30 \n",
        "\n",
        "X_train, X_test, y_train, y_test = train_test_split(\n",
        "    X, y, test_size=0.3, random_state=4)\n"
      ],
      "execution_count": 0,
      "outputs": []
    },
    {
      "cell_type": "code",
      "metadata": {
        "id": "7kofLyEYVZx4",
        "colab_type": "code",
        "outputId": "5fcdd6e3-d114-486d-a286-b67309f71b5f",
        "colab": {
          "base_uri": "https://localhost:8080/",
          "height": 85
        }
      },
      "source": [
        "\n",
        "\n",
        "print(\"Performing linear projection applying lda\")\n",
        "\n",
        "t0 = time()\n",
        "lda = LDA()\n",
        "X_train_lda = lda.fit(X_train,y_train)\n",
        "X_test_lda = lda.transform(X_test)\n",
        "      \n",
        "print(\"done in %0.3fs\" % (time() - t0))\n",
        "\n",
        "\n",
        "\n"
      ],
      "execution_count": 0,
      "outputs": [
        {
          "output_type": "stream",
          "text": [
            "Performing linear projection applying lda\n",
            "done in 2.201s\n"
          ],
          "name": "stdout"
        },
        {
          "output_type": "stream",
          "text": [
            "/usr/local/lib/python3.6/dist-packages/sklearn/discriminant_analysis.py:388: UserWarning: Variables are collinear.\n",
            "  warnings.warn(\"Variables are collinear.\")\n"
          ],
          "name": "stderr"
        }
      ]
    },
    {
      "cell_type": "markdown",
      "metadata": {
        "id": "qdQ4pvkNq7MR",
        "colab_type": "text"
      },
      "source": [
        "### Conclusion 4\n",
        "\n",
        "<br><p align=\"justify\">By just performing Linear projection by using LDA, I found that the approach methodology proposed by the authors was correct and needed to perform Face Recognition. As it can be observed, there is a warning that says that the Variables are Collinear, meaning that there is a linear combination of variables among each other. In mathematical terms, this is due because the determinant of a matrix is zero, or in other words that the matrix is singular. \n",
        "According to the authors the within-class scatter matrix that is used to perform LDA is always singular and therefore we face a problem of collinearity. The reason behind it is beacuse the number of images in the training (that in this case is at most 1348x0.7) set is a lot smaller than the number of pixels (which is 62*47 = 2914) in each one of the images. \n",
        "\n",
        "<br><br><p align=\"justify\"> Thus, the authors correctly claim that a better approach to this problem is necessary and introduce Fisherfaces in order to make the within-class matrix non-singular. To do so, they apply PCA to reduce the number of dimensions of the training set so the matrix is non-singular and therefore there is not a multicollinearity problem. In our case we need to reduce the dimensionality to N-c of our training set which means 1348x0.7 - 8 = 934 to not have multicollinearity.\n",
        " "
      ]
    },
    {
      "cell_type": "code",
      "metadata": {
        "id": "YGsWB4ii4E-v",
        "colab_type": "code",
        "outputId": "24c892a3-ccd9-45d3-f15d-b1feee465039",
        "colab": {
          "base_uri": "https://localhost:8080/",
          "height": 34
        }
      },
      "source": [
        "pca = PCA(n_components = 150, svd_solver='randomized', whiten=True)\n",
        "pca.fit(faces.data)\n",
        "\n",
        "\n",
        "output = pca.fit_transform(faces.data)\n",
        "output.shape"
      ],
      "execution_count": 0,
      "outputs": [
        {
          "output_type": "execute_result",
          "data": {
            "text/plain": [
              "(1348, 150)"
            ]
          },
          "metadata": {
            "tags": []
          },
          "execution_count": 54
        }
      ]
    },
    {
      "cell_type": "code",
      "metadata": {
        "id": "eM2GJihjq36v",
        "colab_type": "code",
        "colab": {}
      },
      "source": [
        "n_components = 934 \n",
        "\n",
        "pca = PCA(n_components= n_components, svd_solver='randomized',\n",
        "          whiten=True)\n",
        "pca.fit(X_train)\n",
        "\n",
        "\n",
        "\n",
        "eigenfaces = pca.components_.reshape((n_components, h, w))\n",
        "\n",
        "X_train_pca = pca.fit_transform(X_train)\n",
        "X_test_pca = pca.transform(X_test)"
      ],
      "execution_count": 0,
      "outputs": []
    },
    {
      "cell_type": "code",
      "metadata": {
        "id": "D3rmKVxkra4g",
        "colab_type": "code",
        "outputId": "54c2aeda-4f33-4307-c436-6f1069163abf",
        "colab": {
          "base_uri": "https://localhost:8080/",
          "height": 34
        }
      },
      "source": [
        "X_train_pca.shape"
      ],
      "execution_count": 0,
      "outputs": [
        {
          "output_type": "execute_result",
          "data": {
            "text/plain": [
              "(943, 934)"
            ]
          },
          "metadata": {
            "tags": []
          },
          "execution_count": 56
        }
      ]
    },
    {
      "cell_type": "code",
      "metadata": {
        "id": "Rwycz1KtngZ3",
        "colab_type": "code",
        "outputId": "fcde1ab7-6114-4ec4-97be-060dfc740dea",
        "colab": {
          "base_uri": "https://localhost:8080/",
          "height": 34
        }
      },
      "source": [
        "X_test_pca.shape\n"
      ],
      "execution_count": 0,
      "outputs": [
        {
          "output_type": "execute_result",
          "data": {
            "text/plain": [
              "(405, 934)"
            ]
          },
          "metadata": {
            "tags": []
          },
          "execution_count": 57
        }
      ]
    },
    {
      "cell_type": "code",
      "metadata": {
        "id": "atGqrpV2pgjr",
        "colab_type": "code",
        "outputId": "da4d28f5-0467-4e99-b402-3216ada7c7b0",
        "colab": {
          "base_uri": "https://localhost:8080/",
          "height": 291
        }
      },
      "source": [
        "projected = pca.inverse_transform(X_train_pca)\n",
        "\n",
        "plt.imshow(projected[300].reshape(62,47))"
      ],
      "execution_count": 0,
      "outputs": [
        {
          "output_type": "execute_result",
          "data": {
            "text/plain": [
              "<matplotlib.image.AxesImage at 0x7f3830fe84e0>"
            ]
          },
          "metadata": {
            "tags": []
          },
          "execution_count": 58
        },
        {
          "output_type": "display_data",
          "data": {
            "image/png": "[encoded data removed]",
            "text/plain": [
              "<Figure size 432x288 with 1 Axes>"
            ]
          },
          "metadata": {
            "tags": []
          }
        }
      ]
    },
    {
      "cell_type": "code",
      "metadata": {
        "id": "UhWxRVNTPQPI",
        "colab_type": "code",
        "colab": {}
      },
      "source": [
        "projected1 = projected[300].reshape(62,47)"
      ],
      "execution_count": 0,
      "outputs": []
    },
    {
      "cell_type": "code",
      "metadata": {
        "id": "iHKqqCOEPnDf",
        "colab_type": "code",
        "outputId": "0dc8ff9c-af06-4ab6-ef08-867d623bde68",
        "colab": {
          "base_uri": "https://localhost:8080/",
          "height": 34
        }
      },
      "source": [
        "projected1.shape"
      ],
      "execution_count": 0,
      "outputs": [
        {
          "output_type": "execute_result",
          "data": {
            "text/plain": [
              "(62, 47)"
            ]
          },
          "metadata": {
            "tags": []
          },
          "execution_count": 68
        }
      ]
    },
    {
      "cell_type": "code",
      "metadata": {
        "id": "BOnsIViIPZun",
        "colab_type": "code",
        "outputId": "ccaf0f1f-5ba2-4a8f-c351-4ac93b796692",
        "colab": {
          "base_uri": "https://localhost:8080/",
          "height": 291
        }
      },
      "source": [
        "plt.imshow(projected1[1:30,3:25])"
      ],
      "execution_count": 0,
      "outputs": [
        {
          "output_type": "execute_result",
          "data": {
            "text/plain": [
              "<matplotlib.image.AxesImage at 0x7f382f3849b0>"
            ]
          },
          "metadata": {
            "tags": []
          },
          "execution_count": 79
        },
        {
          "output_type": "display_data",
          "data": {
            "image/png": "[encoded data removed]",
            "text/plain": [
              "<Figure size 432x288 with 1 Axes>"
            ]
          },
          "metadata": {
            "tags": []
          }
        }
      ]
    },
    {
      "cell_type": "code",
      "metadata": {
        "id": "uLj92hcuxfoH",
        "colab_type": "code",
        "colab": {}
      },
      "source": [
        "lda = LDA()\n",
        "lda.fit(X_train_pca,y_train)\n",
        "\n",
        "X_train_lda = lda.fit_transform(X_train_pca,y_train)\n",
        "X_test_lda = lda.transform(X_test_pca)"
      ],
      "execution_count": 0,
      "outputs": []
    },
    {
      "cell_type": "code",
      "metadata": {
        "id": "Zy6q1vt-7PFU",
        "colab_type": "code",
        "outputId": "575816b8-c4a7-4923-c982-06d23953f26f",
        "colab": {
          "base_uri": "https://localhost:8080/",
          "height": 34
        }
      },
      "source": [
        "X_train_lda.shape"
      ],
      "execution_count": 0,
      "outputs": [
        {
          "output_type": "execute_result",
          "data": {
            "text/plain": [
              "(943, 7)"
            ]
          },
          "metadata": {
            "tags": []
          },
          "execution_count": 60
        }
      ]
    },
    {
      "cell_type": "markdown",
      "metadata": {
        "id": "h4-s6am9zYBW",
        "colab_type": "text"
      },
      "source": [
        "We encountered no problems this time and now we will train the K nearest neighbor algorithm with the dimensionallity reduced data performed by LDA."
      ]
    },
    {
      "cell_type": "code",
      "metadata": {
        "id": "Q6_CXCmPT4Yb",
        "colab_type": "code",
        "outputId": "68d221a0-2e3d-4b24-fb04-d15241c16a6f",
        "colab": {
          "base_uri": "https://localhost:8080/",
          "height": 51
        }
      },
      "source": [
        "print(\"Fitting the classifier to the training set\")\n",
        "\n",
        "\n",
        "clf = KNC(n_neighbors=10)\n",
        "\n",
        "clf = clf.fit(X_train_lda, y_train)\n",
        "print(\"done in %0.3fs\" % (time() - t0))\n"
      ],
      "execution_count": 0,
      "outputs": [
        {
          "output_type": "stream",
          "text": [
            "Fitting the classifier to the training set\n",
            "done in 9.891s\n"
          ],
          "name": "stdout"
        }
      ]
    },
    {
      "cell_type": "code",
      "metadata": {
        "id": "hwnJdpV_iYCv",
        "colab_type": "code",
        "outputId": "f321165d-859c-4c6a-c485-435808e9fbbc",
        "colab": {
          "base_uri": "https://localhost:8080/",
          "height": 442
        }
      },
      "source": [
        "print(\"Predicting people's names on the test set\")\n",
        "t0 = time()\n",
        "y_pred = clf.predict(X_test_lda)\n",
        "print(\"done in %0.3fs\" % (time() - t0))\n",
        "\n",
        "print(classification_report(y_test, y_pred, target_names=target_names))\n",
        "print(confusion_matrix(y_test, y_pred, labels=range(n_classes)))"
      ],
      "execution_count": 0,
      "outputs": [
        {
          "output_type": "stream",
          "text": [
            "Predicting people's names on the test set\n",
            "done in 0.028s\n",
            "                   precision    recall  f1-score   support\n",
            "\n",
            "     Ariel Sharon       0.46      0.24      0.32        25\n",
            "     Colin Powell       0.71      0.51      0.60        82\n",
            "  Donald Rumsfeld       0.26      0.33      0.29        36\n",
            "    George W Bush       0.57      0.48      0.52       155\n",
            "Gerhard Schroeder       0.57      0.29      0.38        28\n",
            "      Hugo Chavez       0.21      0.67      0.32        21\n",
            "Junichiro Koizumi       0.35      0.53      0.42        17\n",
            "       Tony Blair       0.31      0.37      0.34        41\n",
            "\n",
            "         accuracy                           0.45       405\n",
            "        macro avg       0.43      0.43      0.40       405\n",
            "     weighted avg       0.51      0.45      0.46       405\n",
            "\n",
            "[[ 6  3  4  5  0  4  0  3]\n",
            " [ 3 42  8 15  1  8  1  4]\n",
            " [ 1  1 12  8  1  8  1  4]\n",
            " [ 1 11 19 75  3 19 11 16]\n",
            " [ 0  0  2  9  8  7  0  2]\n",
            " [ 1  0  1  1  1 14  2  1]\n",
            " [ 0  0  0  3  0  2  9  3]\n",
            " [ 1  2  1 15  0  5  2 15]]\n"
          ],
          "name": "stdout"
        }
      ]
    },
    {
      "cell_type": "code",
      "metadata": {
        "id": "xPXxLd67iyvk",
        "colab_type": "code",
        "outputId": "265dcfb9-e219-4b90-c26e-83d91f88d432",
        "colab": {
          "base_uri": "https://localhost:8080/",
          "height": 34
        }
      },
      "source": [
        "clf.score(X_test_lda, y_test)"
      ],
      "execution_count": 0,
      "outputs": [
        {
          "output_type": "execute_result",
          "data": {
            "text/plain": [
              "0.4469135802469136"
            ]
          },
          "metadata": {
            "tags": []
          },
          "execution_count": 63
        }
      ]
    },
    {
      "cell_type": "code",
      "metadata": {
        "id": "mKFjnfHIi1EE",
        "colab_type": "code",
        "outputId": "aa51fc03-0797-4fe9-ef00-d256a45517b5",
        "colab": {
          "base_uri": "https://localhost:8080/",
          "height": 34
        }
      },
      "source": [
        "clf.score(X_train_lda, y_train)"
      ],
      "execution_count": 0,
      "outputs": [
        {
          "output_type": "execute_result",
          "data": {
            "text/plain": [
              "1.0"
            ]
          },
          "metadata": {
            "tags": []
          },
          "execution_count": 64
        }
      ]
    },
    {
      "cell_type": "markdown",
      "metadata": {
        "id": "_j9eUhS9mCYb",
        "colab_type": "text"
      },
      "source": [
        "### Conclusion 5\n",
        "In this case, I have demonstrated that FisherFaces Method, for this particular data set that contains not only lighting but also facial expressions and different positions, does not perform as good as LDA. \n",
        "\n",
        "The explenation of this is out of scope for this assigment at UTS and will develop it later on with a stronger conclusion and analysis. For now the reader can have an overview and a idea of what this research was about, the methodology applied and the conclusions that they got. "
      ]
    },
    {
      "cell_type": "markdown",
      "metadata": {
        "id": "9NtFdp6d8E11",
        "colab_type": "text"
      },
      "source": [
        "# Notes to the reader.\n",
        "\n",
        "If you are reading this in GitHub, I recomend to open the file in Colab because some of the features are lost when I saved the file in Github."
      ]
    }
  ]
}